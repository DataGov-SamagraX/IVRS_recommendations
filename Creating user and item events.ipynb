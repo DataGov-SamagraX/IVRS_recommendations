{
 "cells": [
  {
   "cell_type": "code",
   "execution_count": 1,
   "id": "b7db30c3",
   "metadata": {},
   "outputs": [],
   "source": [
    "import pandas as pd \n",
    "import numpy as np \n",
    "import os as os\n",
    "from datetime import datetime\n",
    "import json\n",
    "import gzip\n",
    "import jsonlines\n",
    "import pickle"
   ]
  },
  {
   "cell_type": "code",
   "execution_count": 2,
   "id": "4589588a",
   "metadata": {},
   "outputs": [],
   "source": [
    "def writeall_jsonl_gz(filename, payload ):\n",
    "    with gzip.open(filename, 'wb') as fp:\n",
    "        json_writer = jsonlines.Writer(fp)\n",
    "        json_writer.write_all(payload)"
   ]
  },
  {
   "cell_type": "code",
   "execution_count": 3,
   "id": "46be1e69",
   "metadata": {},
   "outputs": [],
   "source": [
    "## location to save all created files \n",
    "save_folder =  \"D:/Samagra/KO/Recommendations engine/IVRS transformations/\"\n",
    "\n",
    "\n",
    "## file name for the csv containing all the interactions for the month\n",
    "#user_md_file =  'jan_feb_interaction_rank.csv'\n",
    "\n",
    "## file name for the gzip with both ranking and interactions: \n",
    "\n",
    "gzip_filename_user = 'user_gzip.jsonl.gz'\n",
    "\n",
    "gzip_filename_item = 'item_gzip.jsonl.gz'\n",
    "\n",
    "content_md_filename = 'content_metadata.csv'\n",
    "\n",
    "user_md_filename  =  'user_metadata_v2.csv'"
   ]
  },
  {
   "cell_type": "code",
   "execution_count": 85,
   "id": "664e28e9",
   "metadata": {},
   "outputs": [
    {
     "name": "stderr",
     "output_type": "stream",
     "text": [
      "C:\\Users\\gauta\\AppData\\Local\\Temp\\ipykernel_3008\\3098426190.py:3: DtypeWarning: Columns (11,12,14,15) have mixed types. Specify dtype option on import or set low_memory=False.\n",
      "  user_md = pd.read_csv(save_folder + user_md_filename )\n"
     ]
    }
   ],
   "source": [
    "content_md = pd.read_csv(save_folder + content_md_filename )\n",
    "\n",
    "user_md = pd.read_csv(save_folder + user_md_filename )"
   ]
  },
  {
   "cell_type": "code",
   "execution_count": 86,
   "id": "827e4668",
   "metadata": {},
   "outputs": [],
   "source": [
    "user_md['phone_number'] = user_md['phone_number'].astype(str).str[0:10]"
   ]
  },
  {
   "cell_type": "code",
   "execution_count": 192,
   "id": "cecb1dc2",
   "metadata": {},
   "outputs": [],
   "source": [
    "user_md1= user_md[['phone_number','Activities','kharif_crops','Farmertype','district','Own_animal_large','Own_animal_small','Own_poultry']].copy()"
   ]
  },
  {
   "cell_type": "code",
   "execution_count": 194,
   "id": "b13da6d0",
   "metadata": {},
   "outputs": [
    {
     "name": "stderr",
     "output_type": "stream",
     "text": [
      "C:\\Users\\gauta\\AppData\\Local\\Temp\\ipykernel_3008\\173023348.py:1: FutureWarning: The default value of regex will change from True to False in a future version.\n",
      "  user_md1['Activities'] = user_md1['Activities'].str.replace(\"1.0\",\"Crop_prod\").str.replace(\"2.0\",\"Animal_husbandry\").str.replace(\"3.0\",\"Fisheries\").str.replace(\"4.0\",\"Forestry\")\n"
     ]
    }
   ],
   "source": [
    "user_md1['Activities'] = user_md1['Activities'].str.replace(\"1.0\",\"Crop_prod\").str.replace(\"2.0\",\"Animal_husbandry\").str.replace(\"3.0\",\"Fisheries\").str.replace(\"4.0\",\"Forestry\")"
   ]
  },
  {
   "cell_type": "code",
   "execution_count": 195,
   "id": "0a5d2dd5",
   "metadata": {},
   "outputs": [],
   "source": [
    "for colname in user_md1.columns[1:len(user_md1.columns)]:\n",
    "    user_md1.loc[:,colname] = user_md1.loc[:,colname].str.replace(\",nan\",\"\").str.replace(\"nan,\",\"\")"
   ]
  },
  {
   "cell_type": "markdown",
   "id": "886c36ae",
   "metadata": {},
   "source": [
    "### Clean up columns with multiple values by taking the max value : "
   ]
  },
  {
   "cell_type": "markdown",
   "id": "253d3a49",
   "metadata": {},
   "source": [
    "#### Changing 1,2 binary flag to 1,0"
   ]
  },
  {
   "cell_type": "code",
   "execution_count": 197,
   "id": "e3b35dcd",
   "metadata": {},
   "outputs": [
    {
     "data": {
      "text/plain": [
       "Index(['Own_animal_large', 'Own_animal_small', 'Own_poultry'], dtype='object')"
      ]
     },
     "execution_count": 197,
     "metadata": {},
     "output_type": "execute_result"
    }
   ],
   "source": [
    "Binary_columns_list = user_md1.columns[5:8]\n",
    "Binary_columns_list"
   ]
  },
  {
   "cell_type": "code",
   "execution_count": 198,
   "id": "6f88f0e1",
   "metadata": {},
   "outputs": [
    {
     "name": "stderr",
     "output_type": "stream",
     "text": [
      "C:\\Users\\gauta\\AppData\\Local\\Temp\\ipykernel_3008\\37703357.py:2: FutureWarning: The default value of regex will change from True to False in a future version.\n",
      "  user_md1.loc[:,colname] = user_md1.loc[:,colname].str.replace(\"2.0\", \"0.0\")\n"
     ]
    }
   ],
   "source": [
    "for colname in Binary_columns_list:\n",
    "    user_md1.loc[:,colname] = user_md1.loc[:,colname].str.replace(\"2.0\", \"0.0\")"
   ]
  },
  {
   "cell_type": "markdown",
   "id": "a2eec894",
   "metadata": {},
   "source": [
    "#### Taking max value for each list :"
   ]
  },
  {
   "cell_type": "code",
   "execution_count": 199,
   "id": "04cbe2ac",
   "metadata": {},
   "outputs": [],
   "source": [
    "take_max_cols = ['Farmertype','Own_animal_large','Own_animal_small','Own_poultry','district']"
   ]
  },
  {
   "cell_type": "code",
   "execution_count": 200,
   "id": "83fcb562",
   "metadata": {},
   "outputs": [],
   "source": [
    "for colname in take_max_cols:\n",
    "    user_md1.loc[user_md1[colname].notnull() ,colname] =  user_md1.loc[user_md1[colname].notnull() ,colname].str.split(\",\").apply(max)"
   ]
  },
  {
   "cell_type": "markdown",
   "id": "b1b55548",
   "metadata": {},
   "source": [
    "#### Converting to numeric"
   ]
  },
  {
   "cell_type": "code",
   "execution_count": 201,
   "id": "1c5b8865",
   "metadata": {},
   "outputs": [],
   "source": [
    "convert_to_numeric_cols = ['Farmertype','Own_animal_large','Own_animal_small','Own_poultry'] "
   ]
  },
  {
   "cell_type": "code",
   "execution_count": 202,
   "id": "14842af6",
   "metadata": {},
   "outputs": [],
   "source": [
    "for colname in convert_to_numeric_cols:\n",
    "    user_md1[colname] = pd.to_numeric(user_md1[colname]).round(decimals=0).astype(object)"
   ]
  },
  {
   "cell_type": "code",
   "execution_count": 203,
   "id": "3c4d578a",
   "metadata": {},
   "outputs": [
    {
     "data": {
      "text/plain": [
       "array([nan, 2.0, 6.0, 3.0, 4.0, 5.0], dtype=object)"
      ]
     },
     "execution_count": 203,
     "metadata": {},
     "output_type": "execute_result"
    }
   ],
   "source": [
    "user_md1['Farmertype'].unique()"
   ]
  },
  {
   "cell_type": "markdown",
   "id": "23af487b",
   "metadata": {},
   "source": [
    "#### Creating the list features:"
   ]
  },
  {
   "cell_type": "code",
   "execution_count": 204,
   "id": "27c606b9",
   "metadata": {},
   "outputs": [],
   "source": [
    "multi_feature_cols = ['Activities','kharif_crops']"
   ]
  },
  {
   "cell_type": "code",
   "execution_count": 205,
   "id": "ddc0c2f9",
   "metadata": {},
   "outputs": [],
   "source": [
    "for colname in multi_feature_cols:\n",
    "    user_md1.loc[user_md1[colname].notnull() ,colname] = user_md1[colname].str.split(\",\")"
   ]
  },
  {
   "cell_type": "code",
   "execution_count": 206,
   "id": "4b7bec9f",
   "metadata": {},
   "outputs": [],
   "source": [
    "for colname  in user_md1.columns:\n",
    "    user_md1[colname][pd.isna(user_md1[colname])] =  None"
   ]
  },
  {
   "cell_type": "code",
   "execution_count": 207,
   "id": "8313e48c",
   "metadata": {},
   "outputs": [],
   "source": [
    "user_df = user_md1"
   ]
  },
  {
   "cell_type": "markdown",
   "id": "8b4ff680",
   "metadata": {},
   "source": [
    "### Creating the dictionary "
   ]
  },
  {
   "cell_type": "code",
   "execution_count": 208,
   "id": "a55337ba",
   "metadata": {},
   "outputs": [],
   "source": [
    "df_dic = user_df[['phone_number']].rename(columns= {'phone_number': 'user'})"
   ]
  },
  {
   "cell_type": "code",
   "execution_count": 209,
   "id": "48e93d68",
   "metadata": {},
   "outputs": [],
   "source": [
    "df_dic['fields'] = np.empty((len(df_dic), 0)).tolist()\n",
    "df_dic['id'] = df_dic['user']\n",
    "df_dic['timestamp'] = 1400000000000\n",
    "df_dic['event']=  'user'"
   ]
  },
  {
   "cell_type": "code",
   "execution_count": 210,
   "id": "c846a571",
   "metadata": {},
   "outputs": [],
   "source": [
    "user_dict = df_dic.to_dict('records')"
   ]
  },
  {
   "cell_type": "code",
   "execution_count": 211,
   "id": "e214d85c",
   "metadata": {},
   "outputs": [
    {
     "data": {
      "text/plain": [
       "Index(['phone_number', 'Activities', 'kharif_crops', 'Farmertype', 'district',\n",
       "       'Own_animal_large', 'Own_animal_small', 'Own_poultry'],\n",
       "      dtype='object')"
      ]
     },
     "execution_count": 211,
     "metadata": {},
     "output_type": "execute_result"
    }
   ],
   "source": [
    "user_df.columns"
   ]
  },
  {
   "cell_type": "markdown",
   "id": "079224be",
   "metadata": {},
   "source": [
    "### Collating all the fields into the dictionary:  "
   ]
  },
  {
   "cell_type": "code",
   "execution_count": 212,
   "id": "104b62a2",
   "metadata": {},
   "outputs": [
    {
     "data": {
      "text/plain": [
       "Index(['Activities', 'kharif_crops', 'Farmertype', 'district',\n",
       "       'Own_animal_large', 'Own_animal_small', 'Own_poultry'],\n",
       "      dtype='object')"
      ]
     },
     "execution_count": 212,
     "metadata": {},
     "output_type": "execute_result"
    }
   ],
   "source": [
    "user_df.columns[1:user_df.shape[1]]"
   ]
  },
  {
   "cell_type": "code",
   "execution_count": 213,
   "id": "e9dcfa18",
   "metadata": {},
   "outputs": [],
   "source": [
    "for i in range(0, user_df.shape[0]):\n",
    "    for colname in  user_df.columns[1:user_df.shape[1]]:\n",
    "        if (user_df.loc[i,colname] is not None):\n",
    "            dict_fields = {}\n",
    "            dict_fields.update({ \"name\": colname,\n",
    "                            \"value\": user_df.loc[i,colname]\n",
    "            })\n",
    "            user_dict[i]['fields'].append(dict_fields)"
   ]
  },
  {
   "cell_type": "code",
   "execution_count": 214,
   "id": "ed88fdb0",
   "metadata": {},
   "outputs": [
    {
     "data": {
      "text/plain": [
       "[{'name': 'Activities', 'value': ['Crop_prod']},\n",
       " {'name': 'kharif_crops', 'value': ['paddy', 'greengram']},\n",
       " {'name': 'Farmertype', 'value': 2.0},\n",
       " {'name': 'district', 'value': 'KALAHANDI'}]"
      ]
     },
     "execution_count": 214,
     "metadata": {},
     "output_type": "execute_result"
    }
   ],
   "source": [
    "user_dict[4]['fields']"
   ]
  },
  {
   "cell_type": "markdown",
   "id": "97d65396",
   "metadata": {},
   "source": [
    "### Checking item metadata: "
   ]
  },
  {
   "cell_type": "code",
   "execution_count": 163,
   "id": "d63d10f6",
   "metadata": {},
   "outputs": [],
   "source": [
    "content_md1 = content_md.copy()"
   ]
  },
  {
   "cell_type": "code",
   "execution_count": 165,
   "id": "91423af6",
   "metadata": {},
   "outputs": [],
   "source": [
    "content_md1['month'] = content_md1['month'].round(decimals=0).astype(object)\n",
    "content_md1['duration'] = content_md1['duration'].round(decimals=0).astype(object)"
   ]
  },
  {
   "cell_type": "code",
   "execution_count": 166,
   "id": "c4d222a6",
   "metadata": {},
   "outputs": [
    {
     "data": {
      "text/plain": [
       "pushcall_id    object\n",
       "base_tag       object\n",
       "tag_2          object\n",
       "tag_3          object\n",
       "crop           object\n",
       "month          object\n",
       "duration       object\n",
       "dtype: object"
      ]
     },
     "execution_count": 166,
     "metadata": {},
     "output_type": "execute_result"
    }
   ],
   "source": [
    "content_md1.dtypes"
   ]
  },
  {
   "cell_type": "code",
   "execution_count": 167,
   "id": "99f63e80",
   "metadata": {},
   "outputs": [],
   "source": [
    "multi_feature_cols = ['crop']\n",
    "for colname in multi_feature_cols:\n",
    "    content_md1.loc[content_md1[colname].notnull() ,colname] = content_md1[colname].str.split(\",\")"
   ]
  },
  {
   "cell_type": "code",
   "execution_count": 169,
   "id": "408948d4",
   "metadata": {},
   "outputs": [],
   "source": [
    "for colname  in content_md1.columns:\n",
    "    content_md1[colname][pd.isna(content_md1[colname])] =  None"
   ]
  },
  {
   "cell_type": "markdown",
   "id": "846cfe82",
   "metadata": {},
   "source": [
    "####  Creating the dictionary: "
   ]
  },
  {
   "cell_type": "code",
   "execution_count": 170,
   "id": "892d0c58",
   "metadata": {},
   "outputs": [],
   "source": [
    "df_dic = content_md1[['pushcall_id']].rename(columns= {'pushcall_id': 'item'})"
   ]
  },
  {
   "cell_type": "code",
   "execution_count": 171,
   "id": "bfeb6a64",
   "metadata": {},
   "outputs": [],
   "source": [
    "df_dic['fields'] = np.empty((len(df_dic), 0)).tolist()\n",
    "df_dic['id'] = df_dic['item']\n",
    "df_dic['timestamp'] = 1400000000000\n",
    "df_dic['event']=  'item'"
   ]
  },
  {
   "cell_type": "code",
   "execution_count": 172,
   "id": "8ec94cf2",
   "metadata": {},
   "outputs": [],
   "source": [
    "item_dict = df_dic.to_dict('records')"
   ]
  },
  {
   "cell_type": "code",
   "execution_count": 174,
   "id": "4a5d9b4d",
   "metadata": {},
   "outputs": [
    {
     "data": {
      "text/plain": [
       "[{'item': '20210703_cucurbits_downy_mildew_dpm_crop',\n",
       "  'fields': [],\n",
       "  'id': '20210703_cucurbits_downy_mildew_dpm_crop',\n",
       "  'timestamp': 1400000000000,\n",
       "  'event': 'item'},\n",
       " {'item': '20210703_maize_faw_dpm_crop',\n",
       "  'fields': [],\n",
       "  'id': '20210703_maize_faw_dpm_crop',\n",
       "  'timestamp': 1400000000000,\n",
       "  'event': 'item'},\n",
       " {'item': '20210703_sugarcane_top_shoot_borer_dpm_crop',\n",
       "  'fields': [],\n",
       "  'id': '20210703_sugarcane_top_shoot_borer_dpm_crop',\n",
       "  'timestamp': 1400000000000,\n",
       "  'event': 'item'},\n",
       " {'item': '20210801_brinjal_shoot_and_fruit_borer_dpm_crop',\n",
       "  'fields': [],\n",
       "  'id': '20210801_brinjal_shoot_and_fruit_borer_dpm_crop',\n",
       "  'timestamp': 1400000000000,\n",
       "  'event': 'item'}]"
      ]
     },
     "execution_count": 174,
     "metadata": {},
     "output_type": "execute_result"
    }
   ],
   "source": [
    "item_dict[0:4]"
   ]
  },
  {
   "cell_type": "code",
   "execution_count": 176,
   "id": "2bf771ef",
   "metadata": {},
   "outputs": [],
   "source": [
    "for i in range(0, content_md1.shape[0]):\n",
    "    for colname in  content_md1.columns[1:content_md1.shape[1]]:\n",
    "        if  content_md1.loc[i,colname] is not None:\n",
    "            dict_fields = {}\n",
    "\n",
    "            dict_fields.update({ \"name\": colname,\n",
    "                            \"value\": content_md1.loc[i,colname]\n",
    "            })\n",
    "            item_dict[i]['fields'].append(dict_fields)"
   ]
  },
  {
   "cell_type": "code",
   "execution_count": 178,
   "id": "4269572c",
   "metadata": {},
   "outputs": [],
   "source": [
    "payload  = item_dict\n",
    "writeall_jsonl_gz(save_folder + gzip_filename_item, payload )"
   ]
  },
  {
   "cell_type": "code",
   "execution_count": 215,
   "id": "e32257c8",
   "metadata": {},
   "outputs": [],
   "source": [
    "payload  = user_dict\n",
    "writeall_jsonl_gz(save_folder + gzip_filename_user, payload )"
   ]
  },
  {
   "cell_type": "markdown",
   "id": "4c1c2e02",
   "metadata": {},
   "source": [
    "### WIP"
   ]
  },
  {
   "cell_type": "code",
   "execution_count": 398,
   "id": "ec2956ce",
   "metadata": {},
   "outputs": [],
   "source": [
    "\n",
    "# with open('save_folder' + 'items_dic_Jan_Feb.pickle', 'wb') as handle:\n",
    "#     pickle.dump(item_dict, handle, protocol=pickle.HIGHEST_PROTOCOL)"
   ]
  },
  {
   "cell_type": "code",
   "execution_count": 399,
   "id": "debc8bfa",
   "metadata": {},
   "outputs": [],
   "source": [
    "\n",
    "# with open('save_folder' + 'user_dict_Jan_Feb.pickle', 'wb') as handle:\n",
    "#     pickle.dump(user_dict, handle, protocol=pickle.HIGHEST_PROTOCOL)"
   ]
  },
  {
   "cell_type": "code",
   "execution_count": 400,
   "id": "3e729021",
   "metadata": {},
   "outputs": [],
   "source": [
    "# events_list =  []\n",
    "# events_list.extend(user_dict)\n",
    "# events_list.extend(item_dict)\n",
    "\n",
    "# ##saving the created events: \n",
    "\n",
    "# payload  = events_list\n",
    "# writeall_jsonl_gz(save_folder + gzip_filename, payload )"
   ]
  },
  {
   "cell_type": "code",
   "execution_count": 54,
   "id": "2a235d5a",
   "metadata": {},
   "outputs": [],
   "source": [
    "#rank_interactions_dic = [json.loads(line) for line in open('ranking_and_interaction_Jan_Feb.jsonl/ranking_and_interaction_Jan_Feb.jsonl', 'r',encoding=\"utf8\")]\n"
   ]
  },
  {
   "cell_type": "code",
   "execution_count": null,
   "id": "82abb711",
   "metadata": {},
   "outputs": [],
   "source": [
    "# events_list =  []\n",
    "# events_list.extend(user_dict)\n",
    "# events_list.extend(item_dict)\n",
    "# events_list.extend(rank_interactions_dic)"
   ]
  },
  {
   "cell_type": "code",
   "execution_count": null,
   "id": "5ea3c4e4",
   "metadata": {},
   "outputs": [],
   "source": [
    "# payload  = events_list\n",
    "# writeall_jsonl_gz(save_folder + 'all_events.jsonl.gzip', payload )"
   ]
  }
 ],
 "metadata": {
  "kernelspec": {
   "display_name": "Python 3 (ipykernel)",
   "language": "python",
   "name": "python3"
  },
  "language_info": {
   "codemirror_mode": {
    "name": "ipython",
    "version": 3
   },
   "file_extension": ".py",
   "mimetype": "text/x-python",
   "name": "python",
   "nbconvert_exporter": "python",
   "pygments_lexer": "ipython3",
   "version": "3.9.12"
  }
 },
 "nbformat": 4,
 "nbformat_minor": 5
}
