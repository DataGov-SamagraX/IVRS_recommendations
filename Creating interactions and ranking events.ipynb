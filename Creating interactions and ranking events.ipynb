{
 "cells": [
  {
   "cell_type": "code",
   "execution_count": 124,
   "id": "2b83c10a",
   "metadata": {},
   "outputs": [],
   "source": [
    "import pandas as pd \n",
    "import numpy as np \n",
    "import os as os\n",
    "from datetime import datetime\n",
    "import json\n",
    "import gzip\n",
    "import jsonlines\n",
    "import pickle"
   ]
  },
  {
   "cell_type": "markdown",
   "id": "ba224309",
   "metadata": {},
   "source": [
    "#### User defined functions:"
   ]
  },
  {
   "cell_type": "code",
   "execution_count": 125,
   "id": "895e49c7",
   "metadata": {},
   "outputs": [],
   "source": [
    "def writeall_jsonl_gz(filename, payload ):\n",
    "    with gzip.open(filename, 'wb') as fp:\n",
    "        json_writer = jsonlines.Writer(fp)\n",
    "        json_writer.write_all(payload)"
   ]
  },
  {
   "cell_type": "markdown",
   "id": "55f431e7",
   "metadata": {},
   "source": [
    "### File locations :  "
   ]
  },
  {
   "cell_type": "code",
   "execution_count": 126,
   "id": "dc0b15ab",
   "metadata": {},
   "outputs": [],
   "source": [
    "## location to save all created files \n",
    "save_folder =  \"D:/Samagra/KO/Recommendations engine/IVRS transformations/\"\n",
    "\n",
    "## Location to pick up data from \n",
    "folder_loc = \"D:/Samagra/KO/Ama_krushi_data/\"\n",
    "file_list = os.listdir(folder_loc)\n",
    "file_list.reverse()\n",
    "\n",
    "## variable used to name ids later. This is to show that the data covered is from 2022 Jan to 2022 Feb in the ranking and interaction terms \n",
    "time_month = '2022_01_01-2022_02_28_'\n",
    "\n",
    "## file name for the csv containing all the interactions for the month\n",
    "interactions_csv_name =  'jan_feb_interaction_rank.csv'\n",
    "\n",
    "## file name for the gzip with both ranking and interactions: \n",
    "\n",
    "gzip_filename_interactions = 'interaction_Jan_Feb.jsonl.gz'\n",
    "\n",
    "gzip_filename_ranking = 'ranking_Jan_Feb.jsonl.gz'\n",
    "\n",
    "gzip_filename = 'ranking_interaction_Jan_Feb.jsonl.gz'\n",
    "\n",
    "## file name for content metdata:  \n",
    "content_md_filename=  'content_metadata.csv'"
   ]
  },
  {
   "cell_type": "markdown",
   "id": "5b0f5bc7",
   "metadata": {},
   "source": [
    "### Reading data : "
   ]
  },
  {
   "cell_type": "code",
   "execution_count": 127,
   "id": "e9afc934",
   "metadata": {},
   "outputs": [],
   "source": [
    "## reading the content metadata file \n",
    "content_md = pd.read_csv(save_folder + content_md_filename )"
   ]
  },
  {
   "cell_type": "code",
   "execution_count": 128,
   "id": "9bab37ea",
   "metadata": {},
   "outputs": [],
   "source": [
    "## initializing table to pull data from the 9 files about for all interactions within Jan-Feb\n",
    "all_files_df= pd.DataFrame( columns = ['call_datetime', 'pushcall_id', 'number', 'duration', 'ratings', 'pushcall_length'])"
   ]
  },
  {
   "cell_type": "markdown",
   "id": "f676f9f9",
   "metadata": {},
   "source": [
    "##### Pulling data from all files containing interaction data from Jan-Feb 2022"
   ]
  },
  {
   "cell_type": "code",
   "execution_count": 129,
   "id": "153c607e",
   "metadata": {},
   "outputs": [
    {
     "name": "stdout",
     "output_type": "stream",
     "text": [
      "22-02-30_Feb_22_3.csv\n",
      "22-02-20_Feb_22_2.csv\n",
      "22-02-10_Feb_22_1.csv\n",
      "22-01-30_Jan_20-30.csv\n",
      "22-01-20_Jan_11-20.csv\n"
     ]
    },
    {
     "name": "stderr",
     "output_type": "stream",
     "text": [
      "C:\\Users\\gauta\\AppData\\Local\\Temp\\ipykernel_22988\\1566041654.py:3: DtypeWarning: Columns (6) have mixed types. Specify dtype option on import or set low_memory=False.\n",
      "  df = pd.read_csv(folder_loc+file_name)\n"
     ]
    },
    {
     "name": "stdout",
     "output_type": "stream",
     "text": [
      "22-01-11_Jan_1-10.csv\n"
     ]
    },
    {
     "name": "stderr",
     "output_type": "stream",
     "text": [
      "C:\\Users\\gauta\\AppData\\Local\\Temp\\ipykernel_22988\\1566041654.py:3: DtypeWarning: Columns (6) have mixed types. Specify dtype option on import or set low_memory=False.\n",
      "  df = pd.read_csv(folder_loc+file_name)\n"
     ]
    }
   ],
   "source": [
    "for file_name in file_list[4:10]:\n",
    "    print(file_name)\n",
    "    df = pd.read_csv(folder_loc+file_name)\n",
    "    df = df.loc[~df.pushcall_length.isna(),:]\n",
    "    df = df[['call_datetime', 'pushcall_id', 'number', 'duration', 'ratings', 'pushcall_length']]\n",
    "    #all_files_content =  all_files_content.append(content_df,ignore_index= True)\n",
    "    all_files_df =  pd.concat((all_files_df,df),axis = 0,ignore_index= True)\n",
    "    "
   ]
  },
  {
   "cell_type": "code",
   "execution_count": 130,
   "id": "c1a15f9e",
   "metadata": {},
   "outputs": [
    {
     "data": {
      "text/plain": [
       "(10537786, 6)"
      ]
     },
     "execution_count": 130,
     "metadata": {},
     "output_type": "execute_result"
    }
   ],
   "source": [
    "all_files_df.shape"
   ]
  },
  {
   "cell_type": "code",
   "execution_count": 131,
   "id": "4908e2fc",
   "metadata": {},
   "outputs": [],
   "source": [
    "df1= all_files_df.copy()"
   ]
  },
  {
   "cell_type": "markdown",
   "id": "2f5b6754",
   "metadata": {},
   "source": [
    "### Table Cleaning:  \n",
    "- Converting all names to lower case\n",
    "- Removing na values for duration of content\n",
    "- Keeping only relevant content (joining with content metadata file) \n",
    "- Calculating engagement ratio:  duration of call / length of content"
   ]
  },
  {
   "cell_type": "code",
   "execution_count": 132,
   "id": "b1b29003",
   "metadata": {},
   "outputs": [],
   "source": [
    "df1['pushcall_id'] =  df1['pushcall_id'].str.lower()\n",
    "df1 = df1.loc[~df1.pushcall_length.isna(),:]\n",
    "df1 =  pd.merge(df1,content_md[['pushcall_id']],how='inner')\n",
    "df1['eng_ratio'] = df1['duration']/df1['pushcall_length']\n",
    "eng_ratio_cutoff = 0.858034321372855\n",
    "df1['eng_ratio']= df1.eng_ratio.astype('float')"
   ]
  },
  {
   "cell_type": "markdown",
   "id": "aef51136",
   "metadata": {},
   "source": [
    "##### Histogram of engagement ratio:\n",
    "We can see a clear spike in the frequency of engagment ratio after 1 \n",
    "\n",
    "With clustering earlier, we arrived at a value of 0.858034321372855 as the cutoff for deciding if the call was good or not. \n"
   ]
  },
  {
   "cell_type": "code",
   "execution_count": 133,
   "id": "58e071f9",
   "metadata": {},
   "outputs": [
    {
     "data": {
      "text/plain": [
       "array([[<AxesSubplot:title={'center':'Engagement ratio histogram'}>]],\n",
       "      dtype=object)"
      ]
     },
     "execution_count": 133,
     "metadata": {},
     "output_type": "execute_result"
    },
    {
     "data": {
      "image/png": "[encoded data removed]",
      "text/plain": [
       "<Figure size 432x288 with 1 Axes>"
      ]
     },
     "metadata": {
      "needs_background": "light"
     },
     "output_type": "display_data"
    }
   ],
   "source": [
    "pd.DataFrame(df1['eng_ratio'].values,columns = ['Engagement ratio histogram']).hist( bins = 25)"
   ]
  },
  {
   "cell_type": "markdown",
   "id": "57a4d7e6",
   "metadata": {},
   "source": [
    "#### Creating interactions dataframe : \n",
    "We filter only for those users who have liked at least one call across the 2 months."
   ]
  },
  {
   "cell_type": "code",
   "execution_count": 134,
   "id": "85d419ab",
   "metadata": {},
   "outputs": [],
   "source": [
    "df1.loc[:,'liked_call'] = 0\n",
    "df1.loc[df1.eng_ratio > eng_ratio_cutoff ,'liked_call'] = 1\n",
    "numbers_who_liked = np.unique(df1.loc[df1.liked_call == 1,'number' ].values)\n",
    "numbers_who_liked_df = pd.DataFrame(numbers_who_liked,columns =['number'])"
   ]
  },
  {
   "cell_type": "code",
   "execution_count": 135,
   "id": "7762a269",
   "metadata": {},
   "outputs": [],
   "source": [
    "df2 = pd.merge(df1,numbers_who_liked_df)"
   ]
  },
  {
   "cell_type": "code",
   "execution_count": 136,
   "id": "b90f0aa9",
   "metadata": {},
   "outputs": [
    {
     "data": {
      "text/plain": [
       "1006581"
      ]
     },
     "execution_count": 136,
     "metadata": {},
     "output_type": "execute_result"
    }
   ],
   "source": [
    "df2.number.nunique()"
   ]
  },
  {
   "cell_type": "code",
   "execution_count": 137,
   "id": "f13fb7ab",
   "metadata": {},
   "outputs": [
    {
     "name": "stdout",
     "output_type": "stream",
     "text": [
      "We see that we have covered 68.87 % of users who have liked at least 1 call.\n"
     ]
    }
   ],
   "source": [
    "print( 'We see that we have covered',round(df2.number.nunique()/df1.number.nunique()*100,2),'% of users who have liked at least 1 call.')"
   ]
  },
  {
   "cell_type": "markdown",
   "id": "634b2f55",
   "metadata": {},
   "source": [
    "#### Looking at how many calls these users listened to : "
   ]
  },
  {
   "cell_type": "code",
   "execution_count": 138,
   "id": "7a68793d",
   "metadata": {},
   "outputs": [],
   "source": [
    "df_mean = df2.groupby('number').agg( number_calls = ('liked_call','size'), liked_calls = ('liked_call','sum') ).reset_index()\n",
    "average_calls = round(df_mean.number_calls.mean(),2)\n",
    "percentage_liked_from_listed = round((df_mean.liked_calls/df_mean.number_calls).mean()*100,2)"
   ]
  },
  {
   "cell_type": "code",
   "execution_count": 139,
   "id": "dca07a7e",
   "metadata": {},
   "outputs": [
    {
     "name": "stdout",
     "output_type": "stream",
     "text": [
      "We see on average that the users listened to  7.92 calls. These users on average liked  54.1  % of the calls.\n"
     ]
    }
   ],
   "source": [
    "print(\"We see on average that the users listened to \",average_calls,\"calls. These users on average liked \",percentage_liked_from_listed,\" % of the calls.\" )"
   ]
  },
  {
   "cell_type": "code",
   "execution_count": 140,
   "id": "661c7429",
   "metadata": {},
   "outputs": [],
   "source": [
    "del(df_mean)"
   ]
  },
  {
   "cell_type": "markdown",
   "id": "7e0b0d6b",
   "metadata": {},
   "source": [
    "### Additional table transformations: \n",
    "\n",
    "- Ordering the table by time of interactions to get correct order of content shown to the user\n",
    "- Converting content name to lower case and calculating month of interaction\n",
    "- Converting user name to string"
   ]
  },
  {
   "cell_type": "code",
   "execution_count": 141,
   "id": "2457f2be",
   "metadata": {},
   "outputs": [],
   "source": [
    "df2 = df2.sort_values('call_datetime').reset_index(drop= True)"
   ]
  },
  {
   "cell_type": "code",
   "execution_count": 142,
   "id": "3e452632",
   "metadata": {},
   "outputs": [],
   "source": [
    "df2['month'] = df2['call_datetime'].str[5:7].astype('int')\n",
    "df2['pushcall_id'] = df2['pushcall_id'].str.lower()"
   ]
  },
  {
   "cell_type": "markdown",
   "id": "9ec11f1b",
   "metadata": {},
   "source": [
    "### Getting the list of items for ranking:"
   ]
  },
  {
   "cell_type": "code",
   "execution_count": 143,
   "id": "be719a8d",
   "metadata": {},
   "outputs": [],
   "source": [
    "df3 = df2.groupby(['number'])['pushcall_id'].agg([(lambda x: ','.join(map(str, x)))]).applymap(lambda elements: ','.join(set(elements.split(',')))).reset_index().rename(columns = {'<lambda>':'Pushcall_ids_rankings'})"
   ]
  },
  {
   "cell_type": "code",
   "execution_count": 144,
   "id": "5e86e8c0",
   "metadata": {},
   "outputs": [],
   "source": [
    "### Change name and run the below \n",
    "df3.to_csv(save_folder + interactions_csv_name, index = False)"
   ]
  },
  {
   "cell_type": "markdown",
   "id": "cc0b9351",
   "metadata": {},
   "source": [
    "### Creating ranking and interactions table:\n",
    "\n",
    "- Adding the ranking column created above to each interaction to get the ranking for each interaction\n",
    "- Filtering only for the interaction where the user has liked the content. The other interactions go into the ranking column "
   ]
  },
  {
   "cell_type": "code",
   "execution_count": 145,
   "id": "cef8b752",
   "metadata": {},
   "outputs": [],
   "source": [
    "rankings_interactions_df =  pd.merge(df2.loc[df2.liked_call ==1 ,:],df3)"
   ]
  },
  {
   "cell_type": "code",
   "execution_count": 146,
   "id": "46e8b7db",
   "metadata": {},
   "outputs": [],
   "source": [
    "df4 = rankings_interactions_df"
   ]
  },
  {
   "cell_type": "markdown",
   "id": "3d731c0c",
   "metadata": {},
   "source": [
    "### Creating the interactions dictionary :  \n",
    "- Timestamp is calcualted by converting the timestamp to epoch time \n",
    "- id is created by including time_month variable created in the beginning (which tells us which months are covered) to the index of the table \n",
    "- ranking id is same as interactions id \n",
    "- Session and user id are the same "
   ]
  },
  {
   "cell_type": "code",
   "execution_count": 147,
   "id": "4afdbfdb",
   "metadata": {},
   "outputs": [],
   "source": [
    "interactions_df =  df4.copy()"
   ]
  },
  {
   "cell_type": "code",
   "execution_count": 148,
   "id": "c7d86b55",
   "metadata": {},
   "outputs": [],
   "source": [
    "interactions_df = interactions_df[['number','call_datetime','pushcall_id']].rename(columns = {'pushcall_id':'item', 'call_datetime':'timestamp','number':'user'})"
   ]
  },
  {
   "cell_type": "code",
   "execution_count": 149,
   "id": "c14f3d61",
   "metadata": {},
   "outputs": [],
   "source": [
    "interactions_df['user'] =   interactions_df['user'].astype(str).str[0:10]"
   ]
  },
  {
   "cell_type": "code",
   "execution_count": 150,
   "id": "b3af4e30",
   "metadata": {},
   "outputs": [],
   "source": [
    "interactions_df['fields'] = np.empty((len(interactions_df), 0)).tolist()\n",
    "interactions_df['timestamp'] = ((pd.to_datetime(interactions_df['timestamp']) -  pd.Timestamp(\"1970-01-01\"))/ pd.Timedelta('1s'))* 1000\n",
    "interactions_df['timestamp']=  pd.to_numeric(interactions_df['timestamp'].astype('str').str[0:13]).astype(object)\n",
    "interactions_df['id']=  (time_month + interactions_df.index.astype('str')).astype('str')\n",
    "interactions_df['ranking'] = interactions_df['id']\n",
    "interactions_df['tenant']= 'default'\n",
    "interactions_df['type'] =  'click'\n",
    "interactions_df['session'] = interactions_df['user']\n",
    "interactions_df['event'] = 'interaction'\n",
    "interactions_df =  interactions_df[['event','fields','id','item','ranking','session','tenant','timestamp','type','user']]"
   ]
  },
  {
   "cell_type": "code",
   "execution_count": 151,
   "id": "4430494e",
   "metadata": {},
   "outputs": [],
   "source": [
    "interactions_dict = interactions_df.to_dict('records')"
   ]
  },
  {
   "cell_type": "code",
   "execution_count": 152,
   "id": "3e88b2ae",
   "metadata": {},
   "outputs": [
    {
     "data": {
      "text/plain": [
       "[{'event': 'interaction',\n",
       "  'fields': [],\n",
       "  'id': '2022_01_01-2022_02_28_1',\n",
       "  'item': '20220102_pr_rabi_paddy_line_sowing_transplanting_crop',\n",
       "  'ranking': '2022_01_01-2022_02_28_1',\n",
       "  'session': '9178991774',\n",
       "  'tenant': 'default',\n",
       "  'timestamp': 1641998102505,\n",
       "  'type': 'click',\n",
       "  'user': '9178991774'},\n",
       " {'event': 'interaction',\n",
       "  'fields': [],\n",
       "  'id': '2022_01_01-2022_02_28_2',\n",
       "  'item': '20220102_animal_goat_sheep_bm_livestock',\n",
       "  'ranking': '2022_01_01-2022_02_28_2',\n",
       "  'session': '9178991774',\n",
       "  'tenant': 'default',\n",
       "  'timestamp': 1642508097184,\n",
       "  'type': 'click',\n",
       "  'user': '9178991774'},\n",
       " {'event': 'interaction',\n",
       "  'fields': [],\n",
       "  'id': '2022_01_01-2022_02_28_3',\n",
       "  'item': '20220202_animal_goat_sheep_dm_livestock',\n",
       "  'ranking': '2022_01_01-2022_02_28_3',\n",
       "  'session': '9178991774',\n",
       "  'tenant': 'default',\n",
       "  'timestamp': 1645280123922,\n",
       "  'type': 'click',\n",
       "  'user': '9178991774'},\n",
       " {'event': 'interaction',\n",
       "  'fields': [],\n",
       "  'id': '2022_01_01-2022_02_28_4',\n",
       "  'item': '20211204_animal_goat_sheep_fm_livestock',\n",
       "  'ranking': '2022_01_01-2022_02_28_4',\n",
       "  'session': '7855967235',\n",
       "  'tenant': 'default',\n",
       "  'timestamp': 1641024001472,\n",
       "  'type': 'click',\n",
       "  'user': '7855967235'}]"
      ]
     },
     "execution_count": 152,
     "metadata": {},
     "output_type": "execute_result"
    }
   ],
   "source": [
    "interactions_dict[1:5]"
   ]
  },
  {
   "cell_type": "markdown",
   "id": "cc379cc2",
   "metadata": {},
   "source": [
    "### Creating the ranking  dictionary :  \n",
    "- Timestamp is calcualted by converting the timestamp to epoch time and subtracting 10000 milliseconds from it. Ranking needs to be seen before interactions  \n",
    "- id is created by including time_month variable created in the beginning. Same as the id for interactions\n",
    "- Session and user id are the same \n",
    "- Items is a list of dictinoary of the items provided in the ranking column"
   ]
  },
  {
   "cell_type": "code",
   "execution_count": 153,
   "id": "f6dabd7e",
   "metadata": {},
   "outputs": [],
   "source": [
    "rankings_df = df4[['number','call_datetime','Pushcall_ids_rankings']].copy().rename(columns = {'Pushcall_ids_rankings':'items', 'call_datetime':'timestamp','number':'user'})"
   ]
  },
  {
   "cell_type": "code",
   "execution_count": 154,
   "id": "48b1628f",
   "metadata": {},
   "outputs": [],
   "source": [
    "rankings_df['user'] =  rankings_df['user'].astype(str).str[0:10]"
   ]
  },
  {
   "cell_type": "code",
   "execution_count": 155,
   "id": "543409cb",
   "metadata": {},
   "outputs": [],
   "source": [
    "rankings_df['id'] = (time_month + rankings_df.index.astype('str')).astype('str')\n",
    "rankings_df['event']= 'ranking'\n",
    "rankings_df['session']= rankings_df['user']\n",
    "rankings_df['tenant']= 'default'\n",
    "rankings_df['fields'] = np.empty((len(rankings_df), 0)).tolist()\n",
    "rankings_df['timestamp'] = ((pd.to_datetime(rankings_df['timestamp']) -  pd.Timestamp(\"1970-01-01\"))/ pd.Timedelta('1s'))* 1000\n",
    "rankings_df['timestamp'] =  rankings_df['timestamp'] - 10 * 1000\n",
    "rankings_df['timestamp'] = pd.to_numeric(rankings_df['timestamp'].astype('str').str[0:13]).astype(object)"
   ]
  },
  {
   "cell_type": "code",
   "execution_count": 156,
   "id": "c2835586",
   "metadata": {},
   "outputs": [],
   "source": [
    "rankings_df['items']  =(\"[{'id':'\" + rankings_df['items'].str.replace(',',\"\"\"','relevancy':0},{'id':'\"\"\") + \"','relevancy':0}]\" ).str.replace(\"'\",'\"')"
   ]
  },
  {
   "cell_type": "code",
   "execution_count": 157,
   "id": "ae51eefd",
   "metadata": {},
   "outputs": [],
   "source": [
    "rankings_df['items']  = rankings_df['items'].apply(json.loads)"
   ]
  },
  {
   "cell_type": "code",
   "execution_count": 158,
   "id": "dff6d414",
   "metadata": {},
   "outputs": [],
   "source": [
    "rankings_dict =  rankings_df.to_dict('records')"
   ]
  },
  {
   "cell_type": "markdown",
   "id": "45a12ac4",
   "metadata": {},
   "source": [
    "### Combining the interactions and ranking json files and feeding it into a gzip file :  "
   ]
  },
  {
   "cell_type": "code",
   "execution_count": 159,
   "id": "62634427",
   "metadata": {},
   "outputs": [],
   "source": [
    "## Make sure don't overwrite old file. Rename gzip_filename\n",
    "\n",
    "#events_list =  []\n",
    "#events_list.extend(rankings_dict)\n",
    "#events_list.extend(interactions_dict)\n",
    "\n",
    "##saving the created events: \n",
    "\n",
    "#payload  = events_list\n",
    "\n",
    "#writeall_jsonl_gz(save_folder + gzip_filename, payload )"
   ]
  },
  {
   "cell_type": "code",
   "execution_count": null,
   "id": "2f497844",
   "metadata": {},
   "outputs": [],
   "source": [
    "## saving rankings in gzip\n",
    "payload = rankings_dict\n",
    "writeall_jsonl_gz(save_folder + gzip_filename_ranking, payload )"
   ]
  },
  {
   "cell_type": "code",
   "execution_count": null,
   "id": "ce76a52f",
   "metadata": {},
   "outputs": [],
   "source": [
    "## saving interactions in gzip\n",
    "payload = interactions_dict\n",
    "writeall_jsonl_gz(save_folder + gzip_filename_interactions, payload )"
   ]
  },
  {
   "cell_type": "markdown",
   "id": "fec6ebbf",
   "metadata": {},
   "source": [
    "### WIP"
   ]
  },
  {
   "cell_type": "code",
   "execution_count": null,
   "id": "f645003c",
   "metadata": {},
   "outputs": [],
   "source": [
    "\n",
    "# with open('save_folder' + 'rankings_dic_Jan_Feb.pickle', 'wb') as handle:\n",
    "#     pickle.dump(rankings_dict, handle, protocol=pickle.HIGHEST_PROTOCOL)"
   ]
  },
  {
   "cell_type": "code",
   "execution_count": null,
   "id": "602df882",
   "metadata": {},
   "outputs": [],
   "source": [
    "\n",
    "# with open('save_folder' + 'interactions_dic_Jan_Feb.pickle', 'wb') as handle:\n",
    "#     pickle.dump(interactions_dict, handle, protocol=pickle.HIGHEST_PROTOCOL)"
   ]
  },
  {
   "cell_type": "code",
   "execution_count": null,
   "id": "a1e12c3c",
   "metadata": {},
   "outputs": [],
   "source": [
    "### writing all into one gzip"
   ]
  },
  {
   "cell_type": "code",
   "execution_count": null,
   "id": "ce0076d5",
   "metadata": {},
   "outputs": [],
   "source": [
    "# with open('save_folderitems_dic_Jan_Feb.pickle', 'rb') as handle:\n",
    "#     items_dic = pickle.load(handle)"
   ]
  }
 ],
 "metadata": {
  "kernelspec": {
   "display_name": "Python 3 (ipykernel)",
   "language": "python",
   "name": "python3"
  },
  "language_info": {
   "codemirror_mode": {
    "name": "ipython",
    "version": 3
   },
   "file_extension": ".py",
   "mimetype": "text/x-python",
   "name": "python",
   "nbconvert_exporter": "python",
   "pygments_lexer": "ipython3",
   "version": "3.9.12"
  }
 },
 "nbformat": 4,
 "nbformat_minor": 5
}
