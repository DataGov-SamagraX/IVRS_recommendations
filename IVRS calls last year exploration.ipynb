{
 "cells": [
  {
   "cell_type": "markdown",
   "id": "135053be",
   "metadata": {},
   "source": [
    "### Installing libraries"
   ]
  },
  {
   "cell_type": "code",
   "execution_count": 2,
   "id": "677544a1",
   "metadata": {},
   "outputs": [],
   "source": [
    "import pandas as pd \n",
    "import numpy as np \n",
    "import os as os\n",
    "from scipy.stats import percentileofscore\n",
    "import scipy as sc\n",
    "from fastkde.fastKDE import pdf\n",
    "from sklearn.cluster import MiniBatchKMeans\n",
    "import warnings\n",
    "import pickle"
   ]
  },
  {
   "cell_type": "markdown",
   "id": "c9d4a0cb",
   "metadata": {},
   "source": [
    "## User defined function"
   ]
  },
  {
   "cell_type": "code",
   "execution_count": 2,
   "id": "4fa9d1a3",
   "metadata": {},
   "outputs": [],
   "source": [
    "def get_pdf(data):\n",
    "    y, x = pdf(data)\n",
    "    return x, y\n",
    "\n",
    "def k_means_fast_result(all_ratio):\n",
    "    kmeans_fast = MiniBatchKMeans(n_clusters=2,\n",
    "                            batch_size=256*7,\n",
    "                           max_iter=10)\n",
    "    \n",
    "    warnings.filterwarnings(\"ignore\")\n",
    "    kmeans_fast.fit(all_ratio.reshape(-1,1))\n",
    "    y_kmeans_fast = kmeans_fast.predict(all_ratio.reshape(-1,1))\n",
    "    print(np.min(all_ratio[y_kmeans_fast == 0]),\"-\",np.max(all_ratio[y_kmeans_fast == 0] ) )\n",
    "    return()  "
   ]
  },
  {
   "cell_type": "markdown",
   "id": "3f5cf519",
   "metadata": {},
   "source": [
    "### Locations:"
   ]
  },
  {
   "cell_type": "code",
   "execution_count": 15,
   "id": "fe4e63fa",
   "metadata": {},
   "outputs": [],
   "source": [
    "\n",
    "save_folder =  \"D:/Samagra/KO/Recommendations engine/IVRS transformations/\"\n",
    "folder_loc = \"D:/Samagra/KO/Ama_krushi_data/\"\n",
    "file_list = os.listdir(folder_loc)\n",
    "file_list.sort()\n",
    "file_list.reverse()"
   ]
  },
  {
   "cell_type": "code",
   "execution_count": null,
   "id": "ee71d5a2",
   "metadata": {},
   "outputs": [],
   "source": [
    "df = pd.read_csv(folder_loc+file_name)"
   ]
  },
  {
   "cell_type": "code",
   "execution_count": 14,
   "id": "29421cc4",
   "metadata": {},
   "outputs": [
    {
     "data": {
      "text/plain": [
       "['22-04-30_April_22.csv',\n",
       " '22-03-31_March_20-31.csv',\n",
       " '22-03-20_March_10-20.csv',\n",
       " '22-03-10_March_1-10.csv',\n",
       " '22-02-30_Feb_22_3.csv',\n",
       " '22-02-20_Feb_22_2.csv',\n",
       " '22-02-10_Feb_22_1.csv',\n",
       " '22-01-30_Jan_20-30.csv',\n",
       " '22-01-20_Jan_11-20.csv',\n",
       " '22-01-11_Jan_1-10.csv',\n",
       " '21-12-31_Dec_21_21-31.csv',\n",
       " '21-12-31_Dec_21_11-20.csv',\n",
       " '21-12-10_Dec_21_1.csv',\n",
       " '21-11-30_Nov_21_21-30.csv',\n",
       " '21-11-20_Nov_21_11-20.csv',\n",
       " '21-11-10_Nov_21_01-10.csv',\n",
       " '21-10-30_Oct_21_3.csv',\n",
       " '21-10-20_Oct_21_2.csv',\n",
       " '21-10-10_Oct_21_1.csv',\n",
       " '21-09-30_Sept_21_3.csv',\n",
       " '21-09-20_Sept_21_2.csv',\n",
       " '21-09-10_Sept_21_1.csv',\n",
       " '21-08-30_August_21_3.csv',\n",
       " '21-08-20_August_21_2.csv',\n",
       " '21-08-10_August_21_1.csv']"
      ]
     },
     "execution_count": 14,
     "metadata": {},
     "output_type": "execute_result"
    }
   ],
   "source": [
    "file_list"
   ]
  },
  {
   "cell_type": "markdown",
   "id": "cffc091b",
   "metadata": {},
   "source": [
    "### Collating all the unique content names:"
   ]
  },
  {
   "cell_type": "markdown",
   "id": "8c6d155e",
   "metadata": {},
   "source": [
    "Saving all the content names by pulling unnique content names from all the Excel files "
   ]
  },
  {
   "cell_type": "code",
   "execution_count": null,
   "id": "6d830507",
   "metadata": {},
   "outputs": [],
   "source": [
    "all_files_content =  pd.DataFrame(columns= ['file_name','pushcall_id'])\n",
    "\n",
    "\n",
    "for file_name in file_list:\n",
    "    print(file_name)\n",
    "    df = pd.read_csv(folder_loc+file_name)\n",
    "    df = df.loc[~df.pushcall_length.isna(),:]\n",
    "    unique_content_names = df.pushcall_id.unique()\n",
    "    content_df = pd.DataFrame(unique_content_names,columns = ['pushcall_id'] )\n",
    "    content_df['file_name']= file_name\n",
    "    all_files_content =  all_files_content.append(content_df,ignore_index= True)\n",
    "    \n",
    "all_files_content.to_csv(save_folder + 'content_names_in_files.csv',index=False)"
   ]
  },
  {
   "cell_type": "markdown",
   "id": "a6f57ed7",
   "metadata": {},
   "source": [
    "### Content durations and language "
   ]
  },
  {
   "cell_type": "code",
   "execution_count": 25,
   "id": "5c8df922",
   "metadata": {},
   "outputs": [
    {
     "name": "stdout",
     "output_type": "stream",
     "text": [
      "22-04-30_April_22.csv\n"
     ]
    },
    {
     "name": "stderr",
     "output_type": "stream",
     "text": [
      "C:\\Users\\gauta\\AppData\\Local\\Temp\\ipykernel_18400\\3036961833.py:4: DtypeWarning: Columns (6) have mixed types. Specify dtype option on import or set low_memory=False.\n",
      "  df = pd.read_csv(folder_loc+file_name)\n"
     ]
    },
    {
     "name": "stdout",
     "output_type": "stream",
     "text": [
      "22-03-31_March_20-31.csv\n"
     ]
    },
    {
     "name": "stderr",
     "output_type": "stream",
     "text": [
      "C:\\Users\\gauta\\AppData\\Local\\Temp\\ipykernel_18400\\3036961833.py:4: DtypeWarning: Columns (6) have mixed types. Specify dtype option on import or set low_memory=False.\n",
      "  df = pd.read_csv(folder_loc+file_name)\n"
     ]
    },
    {
     "name": "stdout",
     "output_type": "stream",
     "text": [
      "22-03-20_March_10-20.csv\n",
      "22-03-10_March_1-10.csv\n",
      "22-02-30_Feb_22_3.csv\n",
      "22-02-20_Feb_22_2.csv\n",
      "22-02-10_Feb_22_1.csv\n",
      "22-01-30_Jan_20-30.csv\n",
      "22-01-20_Jan_11-20.csv\n"
     ]
    },
    {
     "name": "stderr",
     "output_type": "stream",
     "text": [
      "C:\\Users\\gauta\\AppData\\Local\\Temp\\ipykernel_18400\\3036961833.py:4: DtypeWarning: Columns (6) have mixed types. Specify dtype option on import or set low_memory=False.\n",
      "  df = pd.read_csv(folder_loc+file_name)\n"
     ]
    },
    {
     "name": "stdout",
     "output_type": "stream",
     "text": [
      "22-01-11_Jan_1-10.csv\n"
     ]
    },
    {
     "name": "stderr",
     "output_type": "stream",
     "text": [
      "C:\\Users\\gauta\\AppData\\Local\\Temp\\ipykernel_18400\\3036961833.py:4: DtypeWarning: Columns (6) have mixed types. Specify dtype option on import or set low_memory=False.\n",
      "  df = pd.read_csv(folder_loc+file_name)\n"
     ]
    },
    {
     "name": "stdout",
     "output_type": "stream",
     "text": [
      "21-12-31_Dec_21_21-31.csv\n",
      "21-12-31_Dec_21_11-20.csv\n",
      "21-12-10_Dec_21_1.csv\n"
     ]
    },
    {
     "name": "stderr",
     "output_type": "stream",
     "text": [
      "C:\\Users\\gauta\\AppData\\Local\\Temp\\ipykernel_18400\\3036961833.py:4: DtypeWarning: Columns (6) have mixed types. Specify dtype option on import or set low_memory=False.\n",
      "  df = pd.read_csv(folder_loc+file_name)\n"
     ]
    },
    {
     "name": "stdout",
     "output_type": "stream",
     "text": [
      "21-11-30_Nov_21_21-30.csv\n",
      "21-11-20_Nov_21_11-20.csv\n",
      "21-11-10_Nov_21_01-10.csv\n",
      "21-10-30_Oct_21_3.csv\n",
      "21-10-20_Oct_21_2.csv\n",
      "21-10-10_Oct_21_1.csv\n",
      "21-09-30_Sept_21_3.csv\n",
      "21-09-20_Sept_21_2.csv\n",
      "21-09-10_Sept_21_1.csv\n",
      "21-08-30_August_21_3.csv\n"
     ]
    },
    {
     "name": "stderr",
     "output_type": "stream",
     "text": [
      "C:\\Users\\gauta\\AppData\\Local\\Temp\\ipykernel_18400\\3036961833.py:4: DtypeWarning: Columns (6,15) have mixed types. Specify dtype option on import or set low_memory=False.\n",
      "  df = pd.read_csv(folder_loc+file_name)\n"
     ]
    },
    {
     "name": "stdout",
     "output_type": "stream",
     "text": [
      "21-08-20_August_21_2.csv\n",
      "21-08-10_August_21_1.csv\n"
     ]
    }
   ],
   "source": [
    "all_files_content_meta =  pd.DataFrame(columns= ['pushcall_id','pushcall_length','call_language'])\n",
    "for file_name in file_list:\n",
    "    print(file_name)\n",
    "    df = pd.read_csv(folder_loc+file_name)\n",
    "    df = df.loc[~df.pushcall_length.isna(),:]\n",
    "    unique_content_meta = df[['pushcall_id','pushcall_length','call_language']].drop_duplicates()\n",
    "    all_files_content_meta =  pd.concat((all_files_content_meta,unique_content_meta),axis = 0,ignore_index= True)\n"
   ]
  },
  {
   "cell_type": "code",
   "execution_count": 26,
   "id": "99669ca0",
   "metadata": {},
   "outputs": [],
   "source": [
    "all_files_content_meta = all_files_content_meta.drop_duplicates()\n",
    "all_files_content_meta.to_csv(save_folder + 'content_metadata_1yr.csv',index=False)"
   ]
  },
  {
   "cell_type": "markdown",
   "id": "608d9a6d",
   "metadata": {},
   "source": [
    "### Collating the engagement ratios over the past year: "
   ]
  },
  {
   "cell_type": "code",
   "execution_count": null,
   "id": "c7b32256",
   "metadata": {},
   "outputs": [],
   "source": [
    "all_ratio = np.array([])\n",
    "for file_name in file_list:\n",
    "    print(file_name)\n",
    "    df = pd.read_csv(folder_loc+file_name)\n",
    "    df = df.loc[~df.pushcall_length.isna(),:]\n",
    "    df_group = df.groupby(['pushcall_id','number','advisory_type','pushcall_length']).duration.agg( 'max').reset_index()\n",
    "    ratio =  df_group.duration/df_group.pushcall_length\n",
    "    all_ratio = np.append(all_ratio,ratio)\n",
    "all_ratio1 = all_ratio\n",
    "all_ratio = all_ratio[~np.isnan(all_ratio)]"
   ]
  },
  {
   "cell_type": "markdown",
   "id": "99478865",
   "metadata": {},
   "source": [
    "We have taken the maximum duration of a call for a user-item. That is, if a the same content is sent to the same user multiple times, we take the maximum duration of the call only. \n",
    "This is considering that low durations can happen because of several operational reasons but a high duration call is a success. Hence, if the same content is sent multiple times and even if once they listen for a longer duration, the content interactions is considered a success. "
   ]
  },
  {
   "cell_type": "markdown",
   "id": "071c3927",
   "metadata": {},
   "source": [
    "### Collating all the phone numbers :"
   ]
  },
  {
   "cell_type": "code",
   "execution_count": 16,
   "id": "6cd71dbf",
   "metadata": {},
   "outputs": [
    {
     "name": "stdout",
     "output_type": "stream",
     "text": [
      "22-04-30_April_22.csv\n",
      "22-03-31_March_20-31.csv\n",
      "22-03-20_March_10-20.csv\n",
      "22-03-10_March_1-10.csv\n",
      "22-02-30_Feb_22_3.csv\n",
      "22-02-20_Feb_22_2.csv\n",
      "22-02-10_Feb_22_1.csv\n",
      "22-01-30_Jan_20-30.csv\n",
      "22-01-20_Jan_11-20.csv\n",
      "22-01-11_Jan_1-10.csv\n",
      "21-12-31_Dec_21_21-31.csv\n",
      "21-12-31_Dec_21_11-20.csv\n",
      "21-12-10_Dec_21_1.csv\n",
      "21-11-30_Nov_21_21-30.csv\n",
      "21-11-20_Nov_21_11-20.csv\n",
      "21-11-10_Nov_21_01-10.csv\n",
      "21-10-30_Oct_21_3.csv\n",
      "21-10-20_Oct_21_2.csv\n",
      "21-10-10_Oct_21_1.csv\n",
      "21-09-30_Sept_21_3.csv\n",
      "21-09-20_Sept_21_2.csv\n",
      "21-09-10_Sept_21_1.csv\n",
      "21-08-30_August_21_3.csv\n",
      "21-08-20_August_21_2.csv\n",
      "21-08-10_August_21_1.csv\n"
     ]
    }
   ],
   "source": [
    "all_numbers = np.array([])\n",
    "for file_name in file_list:\n",
    "    print(file_name)\n",
    "    df = pd.read_csv(folder_loc+file_name)\n",
    "    unique_numbers = df.number.unique()\n",
    "    all_numbers = np.append(all_numbers,unique_numbers)\n",
    "    all_numbers = np.unique(all_numbers)"
   ]
  },
  {
   "cell_type": "code",
   "execution_count": 18,
   "id": "b373070d",
   "metadata": {},
   "outputs": [],
   "source": [
    "pd.DataFrame(all_numbers,columns = ['phone_number']).to_csv(save_folder + 'IVRS_phone_numbers.csv',index=False)"
   ]
  },
  {
   "cell_type": "markdown",
   "id": "0bd67ccf",
   "metadata": {},
   "source": [
    "### Reading pickle files if already loaded:"
   ]
  },
  {
   "cell_type": "code",
   "execution_count": 6,
   "id": "a841b44c",
   "metadata": {},
   "outputs": [],
   "source": [
    "with open('all_ratio.pkl', 'rb') as handle:\n",
    "    all_ratio = pickle.load(handle)\n",
    "all_ratio= all_ratio[0]"
   ]
  },
  {
   "cell_type": "markdown",
   "id": "b32b83a5",
   "metadata": {},
   "source": [
    "### Clustering to find the boundary of the different kinds of users: "
   ]
  },
  {
   "cell_type": "markdown",
   "id": "b774897c",
   "metadata": {},
   "source": [
    "Looking at the distribution of engagement ratio:  "
   ]
  },
  {
   "cell_type": "code",
   "execution_count": 13,
   "id": "85c63fd7",
   "metadata": {},
   "outputs": [
    {
     "data": {
      "text/plain": [
       "array([[<AxesSubplot:title={'center':'Engagement ratio histogram'}>]],\n",
       "      dtype=object)"
      ]
     },
     "execution_count": 13,
     "metadata": {},
     "output_type": "execute_result"
    },
    {
     "data": {
      "image/png": "[encoded data removed]",
      "text/plain": [
       "<Figure size 432x288 with 1 Axes>"
      ]
     },
     "metadata": {
      "needs_background": "light"
     },
     "output_type": "display_data"
    }
   ],
   "source": [
    "pd.DataFrame(all_ratio,columns = ['Engagement ratio histogram']).hist( bins = 25)"
   ]
  },
  {
   "cell_type": "markdown",
   "id": "463b9153",
   "metadata": {},
   "source": [
    "We see that there is a spike from near just before 1 onwards\n",
    "\n",
    "We can cluster and see if we can get 2 separate groups in accordance with the above graph. "
   ]
  },
  {
   "cell_type": "code",
   "execution_count": 10,
   "id": "cf8d22b0",
   "metadata": {},
   "outputs": [
    {
     "name": "stdout",
     "output_type": "stream",
     "text": [
      "0.0 - 0.858034321372855\n"
     ]
    },
    {
     "data": {
      "text/plain": [
       "()"
      ]
     },
     "execution_count": 10,
     "metadata": {},
     "output_type": "execute_result"
    }
   ],
   "source": [
    "k_means_fast_result(all_ratio)"
   ]
  },
  {
   "cell_type": "markdown",
   "id": "5231a06e",
   "metadata": {},
   "source": [
    "We see that we have two clusters :\n",
    "- Cluster 1 :  Engagament ratio from 0 to 0.86\n",
    "- Cluster 2 :  Engagement ratio from 0.86 to 2"
   ]
  },
  {
   "cell_type": "markdown",
   "id": "5d93acb1",
   "metadata": {},
   "source": [
    "Checking the percentile for this ratio: "
   ]
  },
  {
   "cell_type": "code",
   "execution_count": 11,
   "id": "030291dc",
   "metadata": {},
   "outputs": [
    {
     "data": {
      "text/plain": [
       "59.748981863551876"
      ]
     },
     "execution_count": 11,
     "metadata": {},
     "output_type": "execute_result"
    }
   ],
   "source": [
    "percentileofscore(all_ratio,0.858034321372855 )"
   ]
  },
  {
   "cell_type": "markdown",
   "id": "04d75a6f",
   "metadata": {},
   "source": [
    "We can see that  40% of the interactions are considered a success and the rest not as a success. "
   ]
  }
 ],
 "metadata": {
  "kernelspec": {
   "display_name": "Python 3 (ipykernel)",
   "language": "python",
   "name": "python3"
  },
  "language_info": {
   "codemirror_mode": {
    "name": "ipython",
    "version": 3
   },
   "file_extension": ".py",
   "mimetype": "text/x-python",
   "name": "python",
   "nbconvert_exporter": "python",
   "pygments_lexer": "ipython3",
   "version": "3.9.12"
  }
 },
 "nbformat": 4,
 "nbformat_minor": 5
}
