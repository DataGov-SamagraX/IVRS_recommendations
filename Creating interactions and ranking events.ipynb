{
 "cells": [
  {
   "cell_type": "code",
   "execution_count": 1,
   "id": "631a0aed",
   "metadata": {},
   "outputs": [],
   "source": [
    "import pandas as pd \n",
    "import numpy as np \n",
    "import os as os"
   ]
  },
  {
   "cell_type": "code",
   "execution_count": 2,
   "id": "411ead2c",
   "metadata": {},
   "outputs": [],
   "source": [
    "save_folder =  \"D:/Samagra/KO/Recommendations engine/IVRS transformations/\"\n",
    "folder_loc = \"D:/Samagra/KO/Ama_krushi_data/\"\n",
    "file_list = os.listdir(folder_loc)\n",
    "file_list.reverse()"
   ]
  },
  {
   "cell_type": "code",
   "execution_count": 18,
   "id": "05300b8f",
   "metadata": {},
   "outputs": [
    {
     "data": {
      "text/plain": [
       "['22-02-30_Feb_22_3.csv',\n",
       " '22-02-20_Feb_22_2.csv',\n",
       " '22-02-10_Feb_22_1.csv',\n",
       " '22-01-30_Jan_20-30.csv',\n",
       " '22-01-20_Jan_11-20.csv',\n",
       " '22-01-11_Jan_1-10.csv']"
      ]
     },
     "execution_count": 18,
     "metadata": {},
     "output_type": "execute_result"
    }
   ],
   "source": [
    "file_list[4:10]"
   ]
  },
  {
   "cell_type": "code",
   "execution_count": 6,
   "id": "68b2fab7",
   "metadata": {},
   "outputs": [
    {
     "name": "stderr",
     "output_type": "stream",
     "text": [
      "C:\\Users\\gauta\\AppData\\Local\\Temp\\ipykernel_7908\\1041604168.py:1: DtypeWarning: Columns (6) have mixed types. Specify dtype option on import or set low_memory=False.\n",
      "  df1 = pd.read_csv(folder_loc +  file_list[0])\n"
     ]
    }
   ],
   "source": [
    "df1 = pd.read_csv(folder_loc +  file_list[0])"
   ]
  },
  {
   "cell_type": "code",
   "execution_count": 9,
   "id": "c8acd78c",
   "metadata": {},
   "outputs": [],
   "source": [
    "df1 = df1.loc[~df1.pushcall_length.isna(),:]"
   ]
  },
  {
   "cell_type": "code",
   "execution_count": 10,
   "id": "fa28bfd0",
   "metadata": {},
   "outputs": [
    {
     "name": "stderr",
     "output_type": "stream",
     "text": [
      "C:\\Users\\gauta\\AppData\\Local\\Temp\\ipykernel_7908\\78338051.py:1: SettingWithCopyWarning: \n",
      "A value is trying to be set on a copy of a slice from a DataFrame.\n",
      "Try using .loc[row_indexer,col_indexer] = value instead\n",
      "\n",
      "See the caveats in the documentation: https://pandas.pydata.org/pandas-docs/stable/user_guide/indexing.html#returning-a-view-versus-a-copy\n",
      "  df1['eng_ratio'] = df1['duration']/df1['pushcall_length']\n"
     ]
    }
   ],
   "source": [
    "df1['eng_ratio'] = df1['duration']/df1['pushcall_length']"
   ]
  },
  {
   "cell_type": "code",
   "execution_count": 12,
   "id": "35214597",
   "metadata": {},
   "outputs": [],
   "source": [
    "eng_ratio_cutoff = 0.858034321372855"
   ]
  },
  {
   "cell_type": "code",
   "execution_count": 21,
   "id": "2ae73afb",
   "metadata": {},
   "outputs": [
    {
     "data": {
      "text/plain": [
       "536065"
      ]
     },
     "execution_count": 21,
     "metadata": {},
     "output_type": "execute_result"
    }
   ],
   "source": [
    "df1.number.nunique()"
   ]
  },
  {
   "cell_type": "code",
   "execution_count": null,
   "id": "79935b03",
   "metadata": {},
   "outputs": [],
   "source": [
    "asdadf"
   ]
  },
  {
   "cell_type": "code",
   "execution_count": null,
   "id": "95960554",
   "metadata": {},
   "outputs": [],
   "source": [
    "df1['Liked_content']=  "
   ]
  }
 ],
 "metadata": {
  "kernelspec": {
   "display_name": "Python 3 (ipykernel)",
   "language": "python",
   "name": "python3"
  },
  "language_info": {
   "codemirror_mode": {
    "name": "ipython",
    "version": 3
   },
   "file_extension": ".py",
   "mimetype": "text/x-python",
   "name": "python",
   "nbconvert_exporter": "python",
   "pygments_lexer": "ipython3",
   "version": "3.9.12"
  }
 },
 "nbformat": 4,
 "nbformat_minor": 5
}
