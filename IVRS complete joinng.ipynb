{
 "cells": [
  {
   "cell_type": "code",
   "execution_count": 2,
   "id": "cc0a179b",
   "metadata": {},
   "outputs": [],
   "source": [
    "import numpy as np\n",
    "import pandas as pd "
   ]
  },
  {
   "cell_type": "code",
   "execution_count": 224,
   "id": "16a73588",
   "metadata": {},
   "outputs": [],
   "source": [
    "save_folder =  \"D:/Samagra/KO/Recommendations engine/IVRS transformations/\""
   ]
  },
  {
   "cell_type": "code",
   "execution_count": 304,
   "id": "6fc89e93",
   "metadata": {},
   "outputs": [],
   "source": [
    "IVRS_numbers = pd.read_csv(save_folder + 'IVRS_phone_numbers.csv' )"
   ]
  },
  {
   "cell_type": "code",
   "execution_count": 293,
   "id": "48260403",
   "metadata": {},
   "outputs": [],
   "source": [
    "KID_numbers = pd.read_csv(save_folder +'mobile_krushk_id.csv', header= None,names = ['int_krushk_id','phone_number'] )"
   ]
  },
  {
   "cell_type": "code",
   "execution_count": 294,
   "id": "98aa9f4d",
   "metadata": {},
   "outputs": [],
   "source": [
    "KID_numbers = KID_numbers.loc[~np.isnan(KID_numbers.phone_number),:].drop_duplicates()"
   ]
  },
  {
   "cell_type": "code",
   "execution_count": 305,
   "id": "3e1f5650",
   "metadata": {},
   "outputs": [],
   "source": [
    "IVRS_numbers= pd.merge(IVRS_numbers,KID_numbers,how= 'left')"
   ]
  },
  {
   "cell_type": "code",
   "execution_count": 306,
   "id": "34713169",
   "metadata": {},
   "outputs": [
    {
     "data": {
      "text/plain": [
       "(3299511, 2)"
      ]
     },
     "execution_count": 306,
     "metadata": {},
     "output_type": "execute_result"
    }
   ],
   "source": [
    "IVRS_numbers.shape"
   ]
  },
  {
   "cell_type": "code",
   "execution_count": 231,
   "id": "41ca766f",
   "metadata": {},
   "outputs": [
    {
     "data": {
      "text/plain": [
       "(3299511, 2)"
      ]
     },
     "execution_count": 231,
     "metadata": {},
     "output_type": "execute_result"
    }
   ],
   "source": [
    "complete_table.shape"
   ]
  },
  {
   "cell_type": "code",
   "execution_count": 232,
   "id": "fe213522",
   "metadata": {},
   "outputs": [
    {
     "name": "stderr",
     "output_type": "stream",
     "text": [
      "C:\\Users\\gauta\\AppData\\Local\\Temp\\ipykernel_5924\\764278704.py:1: DtypeWarning: Columns (1) have mixed types. Specify dtype option on import or set low_memory=False.\n",
      "  activity_data =  pd.read_csv('D:/Samagra/KO/gautam_data/test_conf/dataActivities3.csv',header= None,sep=';', names =['int_krushk_id','aadhar_no','field','self','mpas','ppas'])\n"
     ]
    }
   ],
   "source": [
    "activity_data =  pd.read_csv('D:/Samagra/KO/gautam_data/test_conf/dataActivities3.csv',header= None,sep=';', names =['int_krushk_id','aadhar_no','field','self','mpas','ppas'])\n",
    "activity_data['Activities'] = activity_data.field.combine_first(activity_data.self)\n",
    "activity_data= activity_data[['int_krushk_id','Activities']]"
   ]
  },
  {
   "cell_type": "code",
   "execution_count": 233,
   "id": "1eebee52",
   "metadata": {},
   "outputs": [],
   "source": [
    "activity_data= pd.merge(activity_data,IVRS_numbers[['int_krushk_id']])\n",
    "activity_data = activity_data.groupby(['int_krushk_id',])['Activities'].agg([(lambda x: ','.join(map(str, x)))]).applymap(lambda elements: ','.join(set(elements.split(',')))).reset_index().rename(columns = {'<lambda>':'Activities'})"
   ]
  },
  {
   "cell_type": "code",
   "execution_count": 234,
   "id": "b8a8272f",
   "metadata": {},
   "outputs": [],
   "source": [
    "Farmertype1 =  pd.read_csv('kid_aadhar_farmertype.csv',header= None,sep=';', names =['int_krushk_id','aadhar','Farmertype'])\n",
    "Farmertype1= Farmertype1[['int_krushk_id','Farmertype']]"
   ]
  },
  {
   "cell_type": "code",
   "execution_count": 235,
   "id": "eb8b0aea",
   "metadata": {},
   "outputs": [],
   "source": [
    "Farmertype1 = Farmertype1.drop_duplicates()\n",
    "Farmertype1 =  Farmertype1.loc[~np.isnan(Farmertype1.Farmertype),:]"
   ]
  },
  {
   "cell_type": "code",
   "execution_count": 236,
   "id": "9beca7ff",
   "metadata": {},
   "outputs": [
    {
     "name": "stderr",
     "output_type": "stream",
     "text": [
      "C:\\Users\\gauta\\AppData\\Local\\Temp\\ipykernel_5924\\4231890684.py:1: DtypeWarning: Columns (5) have mixed types. Specify dtype option on import or set low_memory=False.\n",
      "  data_kharif = pd.read_csv('D:/Samagra/KO/gautam_data/test_conf/datakharifcrops.csv' )\n"
     ]
    }
   ],
   "source": [
    "data_kharif = pd.read_csv('D:/Samagra/KO/gautam_data/test_conf/datakharifcrops.csv' )\n",
    "data_kharif = data_kharif.rename(columns = {'KO':'kharif_crops', 'krushk_id':'int_krushk_id'})"
   ]
  },
  {
   "cell_type": "code",
   "execution_count": 237,
   "id": "1fad0ee7",
   "metadata": {},
   "outputs": [],
   "source": [
    "data_kharif = data_kharif.groupby(['int_krushk_id',])['kharif_crops'].agg([(lambda x: ','.join(map(str, x)))]).applymap(lambda elements: ','.join(set(elements.split(',')))).reset_index().rename(columns = {'<lambda>':'kharif_crops'})"
   ]
  },
  {
   "cell_type": "code",
   "execution_count": 238,
   "id": "e7caf553",
   "metadata": {},
   "outputs": [],
   "source": [
    "geo_data = pd.read_csv('D:/Samagra/KO/Joining confidence/Sampling blocks_users.csv',header= None,sep=';', names =['int_krushk_id','district','block','GP'])"
   ]
  },
  {
   "cell_type": "code",
   "execution_count": 239,
   "id": "c77a2500",
   "metadata": {},
   "outputs": [],
   "source": [
    "animals_pd = pd.read_csv('animal large_small_poultry.csv', header= None, names =['int_krushk_id','Own_animal_large','Own_animal_small','Own_poultry'])"
   ]
  },
  {
   "cell_type": "code",
   "execution_count": 240,
   "id": "7109f7bf",
   "metadata": {},
   "outputs": [],
   "source": [
    "animals_pd = animals_pd.groupby('int_krushk_id').agg({'Own_animal_large':'max', 'Own_animal_small':'max','Own_poultry':'max'} ).reset_index()"
   ]
  },
  {
   "cell_type": "code",
   "execution_count": 241,
   "id": "3363823d",
   "metadata": {},
   "outputs": [],
   "source": [
    "brakish_pd = pd.read_csv('brakish_krushkid_capture_culture.csv', header= None, names =['int_krushk_id','Brakish_Capture','Brakish_culture'])"
   ]
  },
  {
   "cell_type": "code",
   "execution_count": 242,
   "id": "f2cff230",
   "metadata": {},
   "outputs": [],
   "source": [
    "brakish_pd = brakish_pd.groupby('int_krushk_id').agg({'Brakish_Capture':'max', 'Brakish_culture':'max'} ).reset_index()"
   ]
  },
  {
   "cell_type": "code",
   "execution_count": 243,
   "id": "52c3c416",
   "metadata": {},
   "outputs": [],
   "source": [
    "freshwater_pd =  pd.read_csv('freshwater_krushkid_capture_culture.csv', header= None, names =['int_krushk_id','Freshwater_capture','Freshwater_culture'])"
   ]
  },
  {
   "cell_type": "code",
   "execution_count": 244,
   "id": "3fd1e44f",
   "metadata": {},
   "outputs": [],
   "source": [
    "freshwater_pd = freshwater_pd.groupby('int_krushk_id').agg({'Freshwater_capture':'max', 'Freshwater_culture':'max'} ).reset_index()"
   ]
  },
  {
   "cell_type": "code",
   "execution_count": 245,
   "id": "50a0b6b6",
   "metadata": {},
   "outputs": [],
   "source": [
    "forest_type = pd.read_csv('typeForest_OriginAccess.csv', header=  None , names =['int_krushk_id','Forest_type','Forest_access_origin']  )"
   ]
  },
  {
   "cell_type": "code",
   "execution_count": 246,
   "id": "88333d4a",
   "metadata": {},
   "outputs": [],
   "source": [
    "forest_type = forest_type.groupby(['int_krushk_id',])['Forest_type'].agg([(lambda x: ','.join(map(str, x)))]).applymap(lambda elements: ','.join(set(elements.split(',')))).reset_index().rename(columns = {'<lambda>':'Forest_type'})"
   ]
  },
  {
   "cell_type": "code",
   "execution_count": 247,
   "id": "46c98a3f",
   "metadata": {},
   "outputs": [],
   "source": [
    "forest_produce = pd.read_csv('krushk_id_produce.csv',header=  None , names =['int_krushk_id','produce_id','produce']  )"
   ]
  },
  {
   "cell_type": "code",
   "execution_count": 248,
   "id": "39a5ef09",
   "metadata": {},
   "outputs": [],
   "source": [
    "forest_produce = forest_produce.groupby(['int_krushk_id',])['produce'].agg([(lambda x: ','.join(map(str, x)))]).applymap(lambda elements: ','.join(set(elements.split(',')))).reset_index().rename(columns = {'<lambda>':'produce'})"
   ]
  },
  {
   "cell_type": "code",
   "execution_count": 229,
   "id": "6da61b73",
   "metadata": {},
   "outputs": [],
   "source": [
    "complete_table = IVRS_numbers.copy()"
   ]
  },
  {
   "cell_type": "code",
   "execution_count": 249,
   "id": "0b8e9443",
   "metadata": {},
   "outputs": [],
   "source": [
    "complete_table = pd.merge(complete_table,activity_data, how= 'left'  )"
   ]
  },
  {
   "cell_type": "code",
   "execution_count": 250,
   "id": "0f6ebcf0",
   "metadata": {},
   "outputs": [],
   "source": [
    "complete_table = pd.merge(complete_table,Farmertype1, how= 'left'  )"
   ]
  },
  {
   "cell_type": "code",
   "execution_count": 251,
   "id": "04927121",
   "metadata": {},
   "outputs": [],
   "source": [
    "complete_table = pd.merge(complete_table,data_kharif, how= 'left'  )"
   ]
  },
  {
   "cell_type": "code",
   "execution_count": 252,
   "id": "2ceacf22",
   "metadata": {},
   "outputs": [],
   "source": [
    "complete_table = pd.merge(complete_table,geo_data, how= 'left'  )"
   ]
  },
  {
   "cell_type": "code",
   "execution_count": 253,
   "id": "b0ea8151",
   "metadata": {},
   "outputs": [],
   "source": [
    "complete_table = pd.merge(complete_table,animals_pd, how= 'left'  )"
   ]
  },
  {
   "cell_type": "code",
   "execution_count": 254,
   "id": "93fff3d9",
   "metadata": {},
   "outputs": [],
   "source": [
    "complete_table = pd.merge(complete_table,brakish_pd, how= 'left'  )"
   ]
  },
  {
   "cell_type": "code",
   "execution_count": 255,
   "id": "2c658cf5",
   "metadata": {},
   "outputs": [],
   "source": [
    "complete_table = pd.merge(complete_table,freshwater_pd, how= 'left'  )"
   ]
  },
  {
   "cell_type": "code",
   "execution_count": 256,
   "id": "63b8cf19",
   "metadata": {},
   "outputs": [],
   "source": [
    "complete_table = pd.merge(complete_table,forest_type, how= 'left'  )"
   ]
  },
  {
   "cell_type": "code",
   "execution_count": 257,
   "id": "54572246",
   "metadata": {},
   "outputs": [],
   "source": [
    "complete_table = pd.merge(complete_table,forest_produce, how= 'left'  )"
   ]
  },
  {
   "cell_type": "code",
   "execution_count": 258,
   "id": "ff2b63ef",
   "metadata": {},
   "outputs": [
    {
     "data": {
      "text/plain": [
       "(3299511, 17)"
      ]
     },
     "execution_count": 258,
     "metadata": {},
     "output_type": "execute_result"
    }
   ],
   "source": [
    "complete_table.shape"
   ]
  },
  {
   "cell_type": "code",
   "execution_count": 269,
   "id": "c6210981",
   "metadata": {},
   "outputs": [],
   "source": [
    "complete_table.to_csv('user_metadata_v1.csv',index = False )"
   ]
  },
  {
   "cell_type": "code",
   "execution_count": 3,
   "id": "c1eb4ffe",
   "metadata": {},
   "outputs": [
    {
     "name": "stderr",
     "output_type": "stream",
     "text": [
      "C:\\Users\\gauta\\AppData\\Local\\Temp\\ipykernel_13352\\4098059125.py:1: DtypeWarning: Columns (15) have mixed types. Specify dtype option on import or set low_memory=False.\n",
      "  complete_table = pd.read_csv('user_metadata_v1.csv')\n"
     ]
    }
   ],
   "source": [
    "#complete_table = pd.read_csv('user_metadata_v1.csv')"
   ]
  },
  {
   "cell_type": "code",
   "execution_count": 260,
   "id": "03fd358b",
   "metadata": {},
   "outputs": [
    {
     "data": {
      "text/plain": [
       "phone_number          0.000000\n",
       "int_krushk_id         0.185565\n",
       "Activities            0.257684\n",
       "Farmertype            0.620620\n",
       "kharif_crops          0.504480\n",
       "district              0.257664\n",
       "block                 0.257664\n",
       "GP                    0.257597\n",
       "Own_animal_large      0.997404\n",
       "Own_animal_small      0.997404\n",
       "Own_poultry           0.997404\n",
       "Brakish_Capture       0.999611\n",
       "Brakish_culture       0.999865\n",
       "Freshwater_capture    0.998501\n",
       "Freshwater_culture    0.999443\n",
       "Forest_type           0.997923\n",
       "produce               0.997924\n",
       "dtype: float64"
      ]
     },
     "execution_count": 260,
     "metadata": {},
     "output_type": "execute_result"
    }
   ],
   "source": [
    "complete_table.isna().sum()/complete_table.shape[0]"
   ]
  },
  {
   "cell_type": "code",
   "execution_count": 5,
   "id": "aa98493a",
   "metadata": {},
   "outputs": [],
   "source": [
    "complete_table2 = complete_table.groupby(['phone_number'],as_index=False).agg([(lambda x: ','.join(map(str, x)))]).applymap(lambda elements: ','.join(set(elements.split(',')))).reset_index()"
   ]
  },
  {
   "cell_type": "code",
   "execution_count": 6,
   "id": "3f89c090",
   "metadata": {},
   "outputs": [],
   "source": [
    "column_list = []\n",
    "for name in complete_table2.columns.values:\n",
    "    column_list.append(name[0])"
   ]
  },
  {
   "cell_type": "code",
   "execution_count": 9,
   "id": "f18b28ea",
   "metadata": {},
   "outputs": [],
   "source": [
    "complete_table2.columns =  column_list"
   ]
  },
  {
   "cell_type": "code",
   "execution_count": 10,
   "id": "617cfd8e",
   "metadata": {},
   "outputs": [
    {
     "data": {
      "text/plain": [
       "(2860160, 17)"
      ]
     },
     "execution_count": 10,
     "metadata": {},
     "output_type": "execute_result"
    }
   ],
   "source": [
    "complete_table2.shape"
   ]
  },
  {
   "cell_type": "code",
   "execution_count": 11,
   "id": "23464f9e",
   "metadata": {},
   "outputs": [],
   "source": [
    "complete_table2[complete_table2=='nan']= np.nan"
   ]
  },
  {
   "cell_type": "code",
   "execution_count": 12,
   "id": "9a9586d3",
   "metadata": {},
   "outputs": [
    {
     "data": {
      "text/plain": [
       "phone_number          1.000000\n",
       "int_krushk_id         0.785931\n",
       "Activities            0.731519\n",
       "Farmertype            0.396797\n",
       "kharif_crops          0.506581\n",
       "district              0.731516\n",
       "block                 0.731516\n",
       "GP                    0.731578\n",
       "Own_animal_large      0.002840\n",
       "Own_animal_small      0.002840\n",
       "Own_poultry           0.002840\n",
       "Brakish_Capture       0.000439\n",
       "Brakish_culture       0.000155\n",
       "Freshwater_capture    0.001678\n",
       "Freshwater_culture    0.000624\n",
       "Forest_type           0.000305\n",
       "produce               0.000294\n",
       "dtype: float64"
      ]
     },
     "execution_count": 12,
     "metadata": {},
     "output_type": "execute_result"
    }
   ],
   "source": [
    "1-(complete_table2.isnull().sum()/complete_table2.shape[0])"
   ]
  },
  {
   "cell_type": "code",
   "execution_count": 16,
   "id": "6f19ddcd",
   "metadata": {},
   "outputs": [
    {
     "data": {
      "text/plain": [
       "830262"
      ]
     },
     "execution_count": 16,
     "metadata": {},
     "output_type": "execute_result"
    }
   ],
   "source": [
    "np.nansum(complete_table2['Activities'].str.contains('2'))"
   ]
  },
  {
   "cell_type": "code",
   "execution_count": 13,
   "id": "f660d490",
   "metadata": {},
   "outputs": [],
   "source": [
    "complete_table2.to_csv('user_metadata_v2.csv',index = False )"
   ]
  },
  {
   "cell_type": "markdown",
   "id": "48d04035",
   "metadata": {},
   "source": [
    "### WIP"
   ]
  },
  {
   "cell_type": "code",
   "execution_count": 313,
   "id": "e4ce1b29",
   "metadata": {},
   "outputs": [],
   "source": [
    "mobile_number_table =  complete_table.groupby('phone_number').size().reset_index()"
   ]
  },
  {
   "cell_type": "code",
   "execution_count": 317,
   "id": "cf336e3a",
   "metadata": {},
   "outputs": [],
   "source": [
    "mobile_number_table_multiple = mobile_number_table.loc[mobile_number_table[0] > 1,:]"
   ]
  },
  {
   "cell_type": "code",
   "execution_count": 328,
   "id": "8ea6e875",
   "metadata": {},
   "outputs": [],
   "source": [
    "join =  pd.merge(complete_table,mobile_number_table_multiple,how= 'inner').sort_values(by=['phone_number','int_krushk_id'], na_position='first')"
   ]
  },
  {
   "cell_type": "code",
   "execution_count": 337,
   "id": "db00e078",
   "metadata": {},
   "outputs": [],
   "source": [
    "join2 = join.groupby(['int_krushk_id'],as_index=False).agg([(lambda x: ','.join(map(str, x)))]).applymap(lambda elements: ','.join(set(elements.split(',')))).reset_index()"
   ]
  },
  {
   "cell_type": "code",
   "execution_count": 350,
   "id": "78042978",
   "metadata": {},
   "outputs": [
    {
     "data": {
      "text/html": [
       "<div>\n",
       "<style scoped>\n",
       "    .dataframe tbody tr th:only-of-type {\n",
       "        vertical-align: middle;\n",
       "    }\n",
       "\n",
       "    .dataframe tbody tr th {\n",
       "        vertical-align: top;\n",
       "    }\n",
       "\n",
       "    .dataframe thead th {\n",
       "        text-align: right;\n",
       "    }\n",
       "</style>\n",
       "<table border=\"1\" class=\"dataframe\">\n",
       "  <thead>\n",
       "    <tr style=\"text-align: right;\">\n",
       "      <th></th>\n",
       "      <th>int_krushk_id</th>\n",
       "      <th>phone_number</th>\n",
       "      <th>Activities</th>\n",
       "      <th>Farmertype</th>\n",
       "      <th>kharif_crops</th>\n",
       "      <th>district</th>\n",
       "      <th>block</th>\n",
       "      <th>GP</th>\n",
       "      <th>Own_animal_large</th>\n",
       "      <th>Own_animal_small</th>\n",
       "      <th>Own_poultry</th>\n",
       "      <th>Brakish_Capture</th>\n",
       "      <th>Brakish_culture</th>\n",
       "      <th>Freshwater_capture</th>\n",
       "      <th>Freshwater_culture</th>\n",
       "      <th>Forest_type</th>\n",
       "      <th>produce</th>\n",
       "      <th>0</th>\n",
       "    </tr>\n",
       "  </thead>\n",
       "  <tbody>\n",
       "    <tr>\n",
       "      <th>0</th>\n",
       "      <td>62.0</td>\n",
       "      <td>9938091498.0</td>\n",
       "      <td>1.0</td>\n",
       "      <td>2.0</td>\n",
       "      <td>paddy,mustard</td>\n",
       "      <td>JHARSUGUDA</td>\n",
       "      <td>LAKHANPUR</td>\n",
       "      <td>KANDHEIKELA</td>\n",
       "      <td>nan</td>\n",
       "      <td>nan</td>\n",
       "      <td>nan</td>\n",
       "      <td>nan</td>\n",
       "      <td>nan</td>\n",
       "      <td>nan</td>\n",
       "      <td>nan</td>\n",
       "      <td>nan</td>\n",
       "      <td>nan</td>\n",
       "      <td>2</td>\n",
       "    </tr>\n",
       "    <tr>\n",
       "      <th>1</th>\n",
       "      <td>83.0</td>\n",
       "      <td>9337981443.0</td>\n",
       "      <td>1.0</td>\n",
       "      <td>2.0</td>\n",
       "      <td>brinjal,chili,paddy</td>\n",
       "      <td>KENDRAPARA</td>\n",
       "      <td>RAJNAGAR</td>\n",
       "      <td>RANGANI</td>\n",
       "      <td>nan</td>\n",
       "      <td>nan</td>\n",
       "      <td>nan</td>\n",
       "      <td>nan</td>\n",
       "      <td>nan</td>\n",
       "      <td>nan</td>\n",
       "      <td>nan</td>\n",
       "      <td>nan</td>\n",
       "      <td>nan</td>\n",
       "      <td>21</td>\n",
       "    </tr>\n",
       "    <tr>\n",
       "      <th>2</th>\n",
       "      <td>85.0</td>\n",
       "      <td>9776597087.0</td>\n",
       "      <td>2.0</td>\n",
       "      <td>nan</td>\n",
       "      <td>nan</td>\n",
       "      <td>SONEPUR</td>\n",
       "      <td>BIRMAHARAJPUR</td>\n",
       "      <td>SUBALAYA</td>\n",
       "      <td>nan</td>\n",
       "      <td>nan</td>\n",
       "      <td>nan</td>\n",
       "      <td>nan</td>\n",
       "      <td>nan</td>\n",
       "      <td>nan</td>\n",
       "      <td>nan</td>\n",
       "      <td>nan</td>\n",
       "      <td>nan</td>\n",
       "      <td>2</td>\n",
       "    </tr>\n",
       "    <tr>\n",
       "      <th>3</th>\n",
       "      <td>88.0</td>\n",
       "      <td>7205503353.0</td>\n",
       "      <td>1.0</td>\n",
       "      <td>nan</td>\n",
       "      <td>greengram,potato,onion,paddy,okra</td>\n",
       "      <td>MAYURBHANJ</td>\n",
       "      <td>BANGRIPOSI</td>\n",
       "      <td>CHANDANPUR</td>\n",
       "      <td>nan</td>\n",
       "      <td>nan</td>\n",
       "      <td>nan</td>\n",
       "      <td>nan</td>\n",
       "      <td>nan</td>\n",
       "      <td>nan</td>\n",
       "      <td>nan</td>\n",
       "      <td>nan</td>\n",
       "      <td>nan</td>\n",
       "      <td>2</td>\n",
       "    </tr>\n",
       "    <tr>\n",
       "      <th>4</th>\n",
       "      <td>94.0</td>\n",
       "      <td>9556897768.0</td>\n",
       "      <td>1.0</td>\n",
       "      <td>2.0</td>\n",
       "      <td>blackgram,paddy</td>\n",
       "      <td>PURI</td>\n",
       "      <td>DELANG</td>\n",
       "      <td>GUALIPADA</td>\n",
       "      <td>nan</td>\n",
       "      <td>nan</td>\n",
       "      <td>nan</td>\n",
       "      <td>nan</td>\n",
       "      <td>nan</td>\n",
       "      <td>nan</td>\n",
       "      <td>nan</td>\n",
       "      <td>nan</td>\n",
       "      <td>nan</td>\n",
       "      <td>2</td>\n",
       "    </tr>\n",
       "    <tr>\n",
       "      <th>...</th>\n",
       "      <td>...</td>\n",
       "      <td>...</td>\n",
       "      <td>...</td>\n",
       "      <td>...</td>\n",
       "      <td>...</td>\n",
       "      <td>...</td>\n",
       "      <td>...</td>\n",
       "      <td>...</td>\n",
       "      <td>...</td>\n",
       "      <td>...</td>\n",
       "      <td>...</td>\n",
       "      <td>...</td>\n",
       "      <td>...</td>\n",
       "      <td>...</td>\n",
       "      <td>...</td>\n",
       "      <td>...</td>\n",
       "      <td>...</td>\n",
       "      <td>...</td>\n",
       "    </tr>\n",
       "    <tr>\n",
       "      <th>735401</th>\n",
       "      <td>7149531.0</td>\n",
       "      <td>8249591827.0</td>\n",
       "      <td>nan</td>\n",
       "      <td>nan</td>\n",
       "      <td>nan</td>\n",
       "      <td>nan</td>\n",
       "      <td>nan</td>\n",
       "      <td>nan</td>\n",
       "      <td>1.0</td>\n",
       "      <td>1.0</td>\n",
       "      <td>2.0</td>\n",
       "      <td>nan</td>\n",
       "      <td>nan</td>\n",
       "      <td>nan</td>\n",
       "      <td>nan</td>\n",
       "      <td>nan</td>\n",
       "      <td>nan</td>\n",
       "      <td>2</td>\n",
       "    </tr>\n",
       "    <tr>\n",
       "      <th>735402</th>\n",
       "      <td>7149538.0</td>\n",
       "      <td>8917514644.0</td>\n",
       "      <td>nan</td>\n",
       "      <td>2.0</td>\n",
       "      <td>nan</td>\n",
       "      <td>nan</td>\n",
       "      <td>nan</td>\n",
       "      <td>nan</td>\n",
       "      <td>nan</td>\n",
       "      <td>nan</td>\n",
       "      <td>nan</td>\n",
       "      <td>nan</td>\n",
       "      <td>nan</td>\n",
       "      <td>nan</td>\n",
       "      <td>nan</td>\n",
       "      <td>nan</td>\n",
       "      <td>nan</td>\n",
       "      <td>2</td>\n",
       "    </tr>\n",
       "    <tr>\n",
       "      <th>735403</th>\n",
       "      <td>7149544.0</td>\n",
       "      <td>7077219245.0</td>\n",
       "      <td>nan</td>\n",
       "      <td>2.0</td>\n",
       "      <td>nan</td>\n",
       "      <td>nan</td>\n",
       "      <td>nan</td>\n",
       "      <td>nan</td>\n",
       "      <td>nan</td>\n",
       "      <td>nan</td>\n",
       "      <td>nan</td>\n",
       "      <td>nan</td>\n",
       "      <td>nan</td>\n",
       "      <td>nan</td>\n",
       "      <td>nan</td>\n",
       "      <td>nan</td>\n",
       "      <td>nan</td>\n",
       "      <td>2</td>\n",
       "    </tr>\n",
       "    <tr>\n",
       "      <th>735404</th>\n",
       "      <td>7149553.0</td>\n",
       "      <td>9777570410.0</td>\n",
       "      <td>nan</td>\n",
       "      <td>3.0</td>\n",
       "      <td>nan</td>\n",
       "      <td>nan</td>\n",
       "      <td>nan</td>\n",
       "      <td>nan</td>\n",
       "      <td>nan</td>\n",
       "      <td>nan</td>\n",
       "      <td>nan</td>\n",
       "      <td>nan</td>\n",
       "      <td>nan</td>\n",
       "      <td>nan</td>\n",
       "      <td>nan</td>\n",
       "      <td>nan</td>\n",
       "      <td>nan</td>\n",
       "      <td>2</td>\n",
       "    </tr>\n",
       "    <tr>\n",
       "      <th>735405</th>\n",
       "      <td>7149568.0</td>\n",
       "      <td>9556536820.0</td>\n",
       "      <td>nan</td>\n",
       "      <td>2.0</td>\n",
       "      <td>nan</td>\n",
       "      <td>nan</td>\n",
       "      <td>nan</td>\n",
       "      <td>nan</td>\n",
       "      <td>nan</td>\n",
       "      <td>nan</td>\n",
       "      <td>nan</td>\n",
       "      <td>nan</td>\n",
       "      <td>nan</td>\n",
       "      <td>nan</td>\n",
       "      <td>nan</td>\n",
       "      <td>nan</td>\n",
       "      <td>nan</td>\n",
       "      <td>2</td>\n",
       "    </tr>\n",
       "  </tbody>\n",
       "</table>\n",
       "<p>735406 rows × 18 columns</p>\n",
       "</div>"
      ],
      "text/plain": [
       "        int_krushk_id  phone_number Activities Farmertype  \\\n",
       "0                62.0  9938091498.0        1.0        2.0   \n",
       "1                83.0  9337981443.0        1.0        2.0   \n",
       "2                85.0  9776597087.0        2.0        nan   \n",
       "3                88.0  7205503353.0        1.0        nan   \n",
       "4                94.0  9556897768.0        1.0        2.0   \n",
       "...               ...           ...        ...        ...   \n",
       "735401      7149531.0  8249591827.0        nan        nan   \n",
       "735402      7149538.0  8917514644.0        nan        2.0   \n",
       "735403      7149544.0  7077219245.0        nan        2.0   \n",
       "735404      7149553.0  9777570410.0        nan        3.0   \n",
       "735405      7149568.0  9556536820.0        nan        2.0   \n",
       "\n",
       "                             kharif_crops    district          block  \\\n",
       "0                           paddy,mustard  JHARSUGUDA      LAKHANPUR   \n",
       "1                     brinjal,chili,paddy  KENDRAPARA       RAJNAGAR   \n",
       "2                                     nan     SONEPUR  BIRMAHARAJPUR   \n",
       "3       greengram,potato,onion,paddy,okra  MAYURBHANJ     BANGRIPOSI   \n",
       "4                         blackgram,paddy        PURI         DELANG   \n",
       "...                                   ...         ...            ...   \n",
       "735401                                nan         nan            nan   \n",
       "735402                                nan         nan            nan   \n",
       "735403                                nan         nan            nan   \n",
       "735404                                nan         nan            nan   \n",
       "735405                                nan         nan            nan   \n",
       "\n",
       "                 GP Own_animal_large Own_animal_small Own_poultry  \\\n",
       "0       KANDHEIKELA              nan              nan         nan   \n",
       "1           RANGANI              nan              nan         nan   \n",
       "2          SUBALAYA              nan              nan         nan   \n",
       "3        CHANDANPUR              nan              nan         nan   \n",
       "4         GUALIPADA              nan              nan         nan   \n",
       "...             ...              ...              ...         ...   \n",
       "735401          nan              1.0              1.0         2.0   \n",
       "735402          nan              nan              nan         nan   \n",
       "735403          nan              nan              nan         nan   \n",
       "735404          nan              nan              nan         nan   \n",
       "735405          nan              nan              nan         nan   \n",
       "\n",
       "       Brakish_Capture Brakish_culture Freshwater_capture Freshwater_culture  \\\n",
       "0                  nan             nan                nan                nan   \n",
       "1                  nan             nan                nan                nan   \n",
       "2                  nan             nan                nan                nan   \n",
       "3                  nan             nan                nan                nan   \n",
       "4                  nan             nan                nan                nan   \n",
       "...                ...             ...                ...                ...   \n",
       "735401             nan             nan                nan                nan   \n",
       "735402             nan             nan                nan                nan   \n",
       "735403             nan             nan                nan                nan   \n",
       "735404             nan             nan                nan                nan   \n",
       "735405             nan             nan                nan                nan   \n",
       "\n",
       "       Forest_type produce   0  \n",
       "0              nan     nan   2  \n",
       "1              nan     nan  21  \n",
       "2              nan     nan   2  \n",
       "3              nan     nan   2  \n",
       "4              nan     nan   2  \n",
       "...            ...     ...  ..  \n",
       "735401         nan     nan   2  \n",
       "735402         nan     nan   2  \n",
       "735403         nan     nan   2  \n",
       "735404         nan     nan   2  \n",
       "735405         nan     nan   2  \n",
       "\n",
       "[735406 rows x 18 columns]"
      ]
     },
     "execution_count": 350,
     "metadata": {},
     "output_type": "execute_result"
    }
   ],
   "source": [
    "join2"
   ]
  },
  {
   "cell_type": "code",
   "execution_count": 278,
   "id": "ef911d5f",
   "metadata": {},
   "outputs": [
    {
     "name": "stdout",
     "output_type": "stream",
     "text": [
      "2860160\n",
      "2687239\n"
     ]
    }
   ],
   "source": [
    "print(len(np.unique(complete_table.phone_number)))\n",
    "print(len(np.unique(complete_table.int_krushk_id)))"
   ]
  },
  {
   "cell_type": "code",
   "execution_count": 346,
   "id": "8f8a1023",
   "metadata": {},
   "outputs": [
    {
     "data": {
      "text/plain": [
       "'int_krushk_id'"
      ]
     },
     "execution_count": 346,
     "metadata": {},
     "output_type": "execute_result"
    }
   ],
   "source": [
    "join2.columns.values[0][0]"
   ]
  },
  {
   "cell_type": "code",
   "execution_count": 347,
   "id": "796f985f",
   "metadata": {},
   "outputs": [],
   "source": [
    "column_list = []\n",
    "for name in join2.columns.values:\n",
    "    column_list.append(name[0])"
   ]
  },
  {
   "cell_type": "code",
   "execution_count": 348,
   "id": "f449576a",
   "metadata": {},
   "outputs": [
    {
     "data": {
      "text/plain": [
       "['int_krushk_id',\n",
       " 'phone_number',\n",
       " 'Activities',\n",
       " 'Farmertype',\n",
       " 'kharif_crops',\n",
       " 'district',\n",
       " 'block',\n",
       " 'GP',\n",
       " 'Own_animal_large',\n",
       " 'Own_animal_small',\n",
       " 'Own_poultry',\n",
       " 'Brakish_Capture',\n",
       " 'Brakish_culture',\n",
       " 'Freshwater_capture',\n",
       " 'Freshwater_culture',\n",
       " 'Forest_type',\n",
       " 'produce',\n",
       " 0]"
      ]
     },
     "execution_count": 348,
     "metadata": {},
     "output_type": "execute_result"
    }
   ],
   "source": [
    "column_list"
   ]
  }
 ],
 "metadata": {
  "kernelspec": {
   "display_name": "Python 3 (ipykernel)",
   "language": "python",
   "name": "python3"
  },
  "language_info": {
   "codemirror_mode": {
    "name": "ipython",
    "version": 3
   },
   "file_extension": ".py",
   "mimetype": "text/x-python",
   "name": "python",
   "nbconvert_exporter": "python",
   "pygments_lexer": "ipython3",
   "version": "3.9.12"
  }
 },
 "nbformat": 4,
 "nbformat_minor": 5
}
